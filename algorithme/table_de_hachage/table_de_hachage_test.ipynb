{
 "cells": [
  {
   "cell_type": "code",
   "execution_count": 1,
   "id": "c4c6da48-3342-4663-adc9-110dfd60cd3b",
   "metadata": {},
   "outputs": [
    {
     "name": "stdout",
     "output_type": "stream",
     "text": [
      "type ('a, 'b) table_hachage = {\n",
      "  hache : 'a -> int;\n",
      "  donnees : ('a * 'b) list array;\n",
      "  largeur : int;\n",
      "}\n",
      "val create : ('a -> int) -> int -> ('a, 'b) table_hachage = <fun>\n",
      "val recherche : ('a, 'b) table_hachage -> 'a -> bool = <fun>\n",
      "val element : ('a, 'b) table_hachage -> 'a -> 'b = <fun>\n",
      "val add : ('a, 'b) table_hachage -> 'a -> 'b -> unit = <fun>\n",
      "val delete : ('a, 'b) table_hachage -> 'a -> unit = <fun>\n"
     ]
    }
   ],
   "source": [
    "#use \"table_de_hachage.ml\""
   ]
  },
  {
   "cell_type": "code",
   "execution_count": 5,
   "id": "9c0b38fd-a724-4d53-865e-811e2eb8dd21",
   "metadata": {},
   "outputs": [
    {
     "data": {
      "text/plain": [
       "- : (int, '_weak1) table_hachage =\n",
       "{hache = <fun>; donnees = [|[]; []; []; []; []; []; []; []; []; []|];\n",
       " largeur = 10}\n"
      ]
     },
     "execution_count": 5,
     "metadata": {},
     "output_type": "execute_result"
    }
   ],
   "source": [
    "create (fun x -> x mod 10 ) 10;;"
   ]
  },
  {
   "cell_type": "code",
   "execution_count": 6,
   "id": "1228a9e2-7e64-4be6-b8b4-ccea66da9a72",
   "metadata": {},
   "outputs": [
    {
     "data": {
      "text/plain": [
       "val t : (int, '_weak2) table_hachage =\n",
       "  {hache = <fun>; donnees = [|[]; []; []; []; []; []; []; []; []; []|];\n",
       "   largeur = 10}\n"
      ]
     },
     "execution_count": 6,
     "metadata": {},
     "output_type": "execute_result"
    }
   ],
   "source": [
    "let t = create (fun x -> x mod 10 ) 10;;"
   ]
  },
  {
   "cell_type": "code",
   "execution_count": 7,
   "id": "074c8489-d3eb-4f55-a854-55156300dbf8",
   "metadata": {},
   "outputs": [
    {
     "data": {
      "text/plain": [
       "- : bool = false\n"
      ]
     },
     "execution_count": 7,
     "metadata": {},
     "output_type": "execute_result"
    }
   ],
   "source": [
    "recherche t 2;;"
   ]
  }
 ],
 "metadata": {
  "kernelspec": {
   "display_name": "OCaml default",
   "language": "OCaml",
   "name": "ocaml-jupyter"
  },
  "language_info": {
   "codemirror_mode": "text/x-ocaml",
   "file_extension": ".ml",
   "mimetype": "text/x-ocaml",
   "name": "OCaml",
   "nbconverter_exporter": null,
   "pygments_lexer": "OCaml",
   "version": "4.08.1"
  }
 },
 "nbformat": 4,
 "nbformat_minor": 5
}
