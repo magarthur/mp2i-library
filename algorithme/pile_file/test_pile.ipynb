{
 "cells": [
  {
   "cell_type": "code",
   "execution_count": 1,
   "id": "ff2e19fe-f7b7-4dbe-8cc4-ec244c82fcf0",
   "metadata": {},
   "outputs": [
    {
     "name": "stdout",
     "output_type": "stream",
     "text": [
      "val stack_empty_l : 'a list -> bool = <fun>\n",
      "val stack_push_l : 'a list -> 'a -> 'a list = <fun>\n",
      "val stack_pop_l : 'a list -> 'a * 'a list = <fun>\n",
      "type 'a stack = { t : 'a array; mutable n : int; }\n",
      "val stack_empty_t : 'a stack -> bool = <fun>\n",
      "val stack_push_t : 'a stack -> 'a -> unit = <fun>\n",
      "val stack_pop_t : 'a stack -> 'a = <fun>\n",
      "type 'a dyn = { mutable d : 'a array; mutable n : int; }\n",
      "val copy : 'a array -> 'a array -> unit = <fun>\n",
      "val stack_push_d : 'a -> 'a dyn -> unit = <fun>\n",
      "val stack_pop_d : 'a dyn -> 'a = <fun>\n",
      "val stack_empty_d : 'a dyn -> bool = <fun>\n"
     ]
    }
   ],
   "source": [
    "#use \"pile.ml\""
   ]
  },
  {
   "cell_type": "code",
   "execution_count": 2,
   "id": "5ae1d6e5-11ee-493d-ae45-68118aa39cd6",
   "metadata": {},
   "outputs": [
    {
     "data": {
      "text/plain": [
       "val l1 : 'a list = []\n"
      ]
     },
     "execution_count": 2,
     "metadata": {},
     "output_type": "execute_result"
    }
   ],
   "source": [
    "let l1 = [];;"
   ]
  },
  {
   "cell_type": "code",
   "execution_count": 3,
   "id": "3965e6bf-ae45-4868-b45a-b3d42f3f8a7d",
   "metadata": {},
   "outputs": [
    {
     "data": {
      "text/plain": [
       "- : bool = true\n"
      ]
     },
     "execution_count": 3,
     "metadata": {},
     "output_type": "execute_result"
    }
   ],
   "source": [
    "stack_empty_l l1;;"
   ]
  },
  {
   "cell_type": "code",
   "execution_count": 4,
   "id": "3c16ebfe-bdd5-4175-b7f0-4b05e25ae0c3",
   "metadata": {},
   "outputs": [
    {
     "data": {
      "text/plain": [
       "- : int list = [2]\n"
      ]
     },
     "execution_count": 4,
     "metadata": {},
     "output_type": "execute_result"
    }
   ],
   "source": [
    "stack_push_l l1 2;;"
   ]
  },
  {
   "cell_type": "code",
   "execution_count": 5,
   "id": "6742420e-1a01-4703-9185-2f68c74919aa",
   "metadata": {},
   "outputs": [
    {
     "ename": "error",
     "evalue": "runtime_error",
     "output_type": "error",
     "traceback": [
      "\u001b[31mException: Failure \"stack is empty\".\nRaised at file \"stdlib.ml\", line 29, characters 22-33\nCalled from file \"toplevel/toploop.ml\", line 208, characters 17-27\n\u001b[0m"
     ]
    }
   ],
   "source": [
    "stack_pop_l l1;;"
   ]
  },
  {
   "cell_type": "code",
   "execution_count": 6,
   "id": "11f742c9-177c-419e-be24-3571e3373314",
   "metadata": {},
   "outputs": [
    {
     "data": {
      "text/plain": [
       "val t1 : int stack = {t = [|-1; -1; -1; -1; -1; -1; -1; -1; -1; -1|]; n = 0}\n"
      ]
     },
     "execution_count": 6,
     "metadata": {},
     "output_type": "execute_result"
    }
   ],
   "source": [
    "let t1 = {t = Array.make 10 (-1); n = 0};;"
   ]
  },
  {
   "cell_type": "code",
   "execution_count": 7,
   "id": "0f4c61b9-c048-45e1-a688-bf9c3c5ca894",
   "metadata": {},
   "outputs": [
    {
     "data": {
      "text/plain": [
       "- : bool = true\n"
      ]
     },
     "execution_count": 7,
     "metadata": {},
     "output_type": "execute_result"
    }
   ],
   "source": [
    "stack_empty_t t1;;"
   ]
  },
  {
   "cell_type": "code",
   "execution_count": 8,
   "id": "3242f187-1012-4324-bf5e-2751c895eb82",
   "metadata": {},
   "outputs": [
    {
     "data": {
      "text/plain": [
       "- : unit = ()\n"
      ]
     },
     "execution_count": 8,
     "metadata": {},
     "output_type": "execute_result"
    }
   ],
   "source": [
    "stack_push_t t1 2"
   ]
  },
  {
   "cell_type": "code",
   "execution_count": 9,
   "id": "6b087c46-5f2f-4bf2-b2d4-779f6557e59c",
   "metadata": {},
   "outputs": [
    {
     "data": {
      "text/plain": [
       "- : int stack = {t = [|2; -1; -1; -1; -1; -1; -1; -1; -1; -1|]; n = 1}\n"
      ]
     },
     "execution_count": 9,
     "metadata": {},
     "output_type": "execute_result"
    }
   ],
   "source": [
    "t1;;"
   ]
  },
  {
   "cell_type": "code",
   "execution_count": 10,
   "id": "bff260c9-4adf-4401-b6e2-b554afcf6249",
   "metadata": {},
   "outputs": [
    {
     "data": {
      "text/plain": [
       "- : int = 2\n"
      ]
     },
     "execution_count": 10,
     "metadata": {},
     "output_type": "execute_result"
    }
   ],
   "source": [
    "stack_pop_t t1;;"
   ]
  },
  {
   "cell_type": "code",
   "execution_count": 11,
   "id": "86de43db-e08b-47e9-bb9a-4dbf9be63f3a",
   "metadata": {},
   "outputs": [
    {
     "data": {
      "text/plain": [
       "val d1 : '_weak1 dyn = {d = [||]; n = 0}\n"
      ]
     },
     "execution_count": 11,
     "metadata": {},
     "output_type": "execute_result"
    }
   ],
   "source": [
    "let d1 = {d = [||]; n = 0};;"
   ]
  },
  {
   "cell_type": "code",
   "execution_count": 13,
   "id": "9acd5254-749f-4f10-9b9e-898f8bf62161",
   "metadata": {},
   "outputs": [
    {
     "data": {
      "text/plain": [
       "- : unit = ()\n"
      ]
     },
     "execution_count": 13,
     "metadata": {},
     "output_type": "execute_result"
    }
   ],
   "source": [
    "for i = 0 to 6 do\n",
    "    stack_push_d i d1\n",
    "done;;"
   ]
  },
  {
   "cell_type": "code",
   "execution_count": 14,
   "id": "20247075-192d-4152-b392-be651642f083",
   "metadata": {},
   "outputs": [
    {
     "data": {
      "text/plain": [
       "- : int dyn = {d = [|0; 1; 2; 3; 4; 5; 6; 0|]; n = 7}\n"
      ]
     },
     "execution_count": 14,
     "metadata": {},
     "output_type": "execute_result"
    }
   ],
   "source": [
    "d1;;"
   ]
  },
  {
   "cell_type": "code",
   "execution_count": 15,
   "id": "b30c4aa5-7fe4-4f99-91ad-8edf1c59a352",
   "metadata": {},
   "outputs": [
    {
     "data": {
      "text/plain": [
       "- : int = 6\n"
      ]
     },
     "execution_count": 15,
     "metadata": {},
     "output_type": "execute_result"
    }
   ],
   "source": [
    "stack_pop_d d1;;"
   ]
  },
  {
   "cell_type": "code",
   "execution_count": 16,
   "id": "5ee1ed6a-50c3-40c9-a186-6b3e84172506",
   "metadata": {},
   "outputs": [
    {
     "data": {
      "text/plain": [
       "- : bool = false\n"
      ]
     },
     "execution_count": 16,
     "metadata": {},
     "output_type": "execute_result"
    }
   ],
   "source": [
    "stack_empty_d d1;;"
   ]
  },
  {
   "cell_type": "code",
   "execution_count": null,
   "id": "6a55b5c3-0486-4205-b9ff-f11da03a388b",
   "metadata": {},
   "outputs": [],
   "source": []
  }
 ],
 "metadata": {
  "kernelspec": {
   "display_name": "OCaml default",
   "language": "OCaml",
   "name": "ocaml-jupyter"
  },
  "language_info": {
   "codemirror_mode": "text/x-ocaml",
   "file_extension": ".ml",
   "mimetype": "text/x-ocaml",
   "name": "OCaml",
   "nbconverter_exporter": null,
   "pygments_lexer": "OCaml",
   "version": "4.08.1"
  }
 },
 "nbformat": 4,
 "nbformat_minor": 5
}
