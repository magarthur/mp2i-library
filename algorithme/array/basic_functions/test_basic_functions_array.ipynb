{
 "cells": [
  {
   "cell_type": "code",
   "execution_count": 1,
   "id": "4d9ddea7-0155-44cd-bd82-87379e33c4dc",
   "metadata": {},
   "outputs": [
    {
     "name": "stdout",
     "output_type": "stream",
     "text": [
      "val sum_t : int array -> int = <fun>\n",
      "val mem_t : 'a -> 'a array -> bool = <fun>\n",
      "val mini_t : int array -> int = <fun>\n",
      "val maxi_t : int array -> int = <fun>\n",
      "val increase_t : 'a array -> bool = <fun>\n",
      "val decrease_t : 'a array -> bool = <fun>\n",
      "val doublon_t : 'a array -> bool = <fun>\n",
      "val reverse_t : 'a array -> 'a array = <fun>\n",
      "val equal_t : 'a array -> 'a array -> bool = <fun>\n"
     ]
    }
   ],
   "source": [
    "#use \"basic_functions_array.ml\""
   ]
  },
  {
   "cell_type": "code",
   "execution_count": 2,
   "id": "c1b2b9e9-5422-4e7b-9bbb-85e6cb91e567",
   "metadata": {},
   "outputs": [
    {
     "data": {
      "text/plain": [
       "val t1 : int array = [|1; 3; -4; 5; -2; 8; 10; 11|]\n"
      ]
     },
     "execution_count": 2,
     "metadata": {},
     "output_type": "execute_result"
    }
   ],
   "source": [
    "let t1 = [| 1;3;-4;5;-2;8;10;11|]"
   ]
  },
  {
   "cell_type": "code",
   "execution_count": 3,
   "id": "4048c3d0-5b82-4b1a-9d18-6ead399bdf88",
   "metadata": {},
   "outputs": [
    {
     "data": {
      "text/plain": [
       "- : int = 32\n"
      ]
     },
     "execution_count": 3,
     "metadata": {},
     "output_type": "execute_result"
    }
   ],
   "source": [
    "sum_t t1;;"
   ]
  },
  {
   "cell_type": "code",
   "execution_count": 4,
   "id": "9da6830b-3fcb-4aa8-960c-00751b6ae42e",
   "metadata": {},
   "outputs": [
    {
     "data": {
      "text/plain": [
       "- : bool = true\n"
      ]
     },
     "execution_count": 4,
     "metadata": {},
     "output_type": "execute_result"
    },
    {
     "data": {
      "text/plain": [
       "- : bool = false\n"
      ]
     },
     "execution_count": 4,
     "metadata": {},
     "output_type": "execute_result"
    }
   ],
   "source": [
    "mem_t (-4) t1;;\n",
    "mem_t 12 t1;;"
   ]
  },
  {
   "cell_type": "code",
   "execution_count": 5,
   "id": "2b041875-24e4-46df-bd86-c980e49bb5a8",
   "metadata": {},
   "outputs": [
    {
     "data": {
      "text/plain": [
       "- : int = -4\n"
      ]
     },
     "execution_count": 5,
     "metadata": {},
     "output_type": "execute_result"
    }
   ],
   "source": [
    "mini_t t1;;"
   ]
  },
  {
   "cell_type": "code",
   "execution_count": 6,
   "id": "23826a2d-a361-432c-9109-8391017370f3",
   "metadata": {},
   "outputs": [
    {
     "data": {
      "text/plain": [
       "- : int = 11\n"
      ]
     },
     "execution_count": 6,
     "metadata": {},
     "output_type": "execute_result"
    }
   ],
   "source": [
    "maxi_t t1;;"
   ]
  },
  {
   "cell_type": "code",
   "execution_count": 7,
   "id": "167a5685-a7c7-437d-a95b-f5205ff00886",
   "metadata": {},
   "outputs": [
    {
     "data": {
      "text/plain": [
       "- : bool = false\n"
      ]
     },
     "execution_count": 7,
     "metadata": {},
     "output_type": "execute_result"
    }
   ],
   "source": [
    "increase_t t1;;"
   ]
  },
  {
   "cell_type": "code",
   "execution_count": 8,
   "id": "2443840e-475f-44ca-ba2f-cfd37af1c796",
   "metadata": {},
   "outputs": [
    {
     "data": {
      "text/plain": [
       "- : bool = false\n"
      ]
     },
     "execution_count": 8,
     "metadata": {},
     "output_type": "execute_result"
    }
   ],
   "source": [
    "decrease_t t1;;"
   ]
  },
  {
   "cell_type": "code",
   "execution_count": 15,
   "id": "6b2a871e-acf6-4ebb-9172-e590cf7956c0",
   "metadata": {},
   "outputs": [
    {
     "data": {
      "text/plain": [
       "val t2 : int array = [|1; 3; 5; 9; 12; 2; 3; 10; 11|]\n"
      ]
     },
     "execution_count": 15,
     "metadata": {},
     "output_type": "execute_result"
    }
   ],
   "source": [
    "let t2 = [|1;3;5;9;12;2;3;10;11|];;"
   ]
  },
  {
   "cell_type": "code",
   "execution_count": 10,
   "id": "3f060d7d-3d54-45ce-8911-16aebc0331e3",
   "metadata": {},
   "outputs": [
    {
     "data": {
      "text/plain": [
       "- : bool = true\n"
      ]
     },
     "execution_count": 10,
     "metadata": {},
     "output_type": "execute_result"
    }
   ],
   "source": [
    "doublon_t t2;;"
   ]
  },
  {
   "cell_type": "code",
   "execution_count": 12,
   "id": "26532be8-fff1-4269-a4d9-ad6d2b8e7fe9",
   "metadata": {},
   "outputs": [
    {
     "data": {
      "text/plain": [
       "- : int array = [|11; 10; 3; 2; 12; 9; 5; 3; 1|]\n"
      ]
     },
     "execution_count": 12,
     "metadata": {},
     "output_type": "execute_result"
    }
   ],
   "source": [
    "reverse_t t2;;"
   ]
  },
  {
   "cell_type": "code",
   "execution_count": 16,
   "id": "f8e8d02c-03c1-4e87-b035-93e346be26ff",
   "metadata": {},
   "outputs": [
    {
     "data": {
      "text/plain": [
       "val t3 : int array = [|1; 3; 5; 9; 12; 2; 3; 10; 11|]\n"
      ]
     },
     "execution_count": 16,
     "metadata": {},
     "output_type": "execute_result"
    }
   ],
   "source": [
    "let t3 = [|1;3;5;9;12;2;3;10;11|];;"
   ]
  },
  {
   "cell_type": "code",
   "execution_count": 17,
   "id": "27baf92e-6c7e-475e-a6db-e7a14f331cdb",
   "metadata": {},
   "outputs": [
    {
     "data": {
      "text/plain": [
       "- : bool = false\n"
      ]
     },
     "execution_count": 17,
     "metadata": {},
     "output_type": "execute_result"
    },
    {
     "data": {
      "text/plain": [
       "- : bool = true\n"
      ]
     },
     "execution_count": 17,
     "metadata": {},
     "output_type": "execute_result"
    }
   ],
   "source": [
    "equal_t t1 t2;;\n",
    "equal_t t2 t3;;"
   ]
  }
 ],
 "metadata": {
  "kernelspec": {
   "display_name": "OCaml default",
   "language": "OCaml",
   "name": "ocaml-jupyter"
  },
  "language_info": {
   "codemirror_mode": "text/x-ocaml",
   "file_extension": ".ml",
   "mimetype": "text/x-ocaml",
   "name": "OCaml",
   "nbconverter_exporter": null,
   "pygments_lexer": "OCaml",
   "version": "4.08.1"
  }
 },
 "nbformat": 4,
 "nbformat_minor": 5
}
