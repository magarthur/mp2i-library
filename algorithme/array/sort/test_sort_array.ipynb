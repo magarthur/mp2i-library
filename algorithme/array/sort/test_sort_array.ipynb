{
 "cells": [
  {
   "cell_type": "code",
   "execution_count": 1,
   "id": "8060041b-330c-4242-b03f-7a992a769df7",
   "metadata": {},
   "outputs": [
    {
     "name": "stdout",
     "output_type": "stream",
     "text": [
      "val maxi_t : int array -> int = <fun>\n",
      "val tri_comptage_t : int array -> int array = <fun>\n",
      "val swap_t : 'a array -> int -> int -> unit = <fun>\n",
      "val sort_bubble_t : 'a array -> unit = <fun>\n"
     ]
    }
   ],
   "source": [
    "#use \"sort_array.ml\";;"
   ]
  },
  {
   "cell_type": "code",
   "execution_count": 2,
   "id": "e807f091-ab81-47f0-b37b-1a054012089e",
   "metadata": {},
   "outputs": [
    {
     "data": {
      "text/plain": [
       "val t1 : int array = [|9; 4; 3; 2; 10; 6; 3; 2; 4|]\n"
      ]
     },
     "execution_count": 2,
     "metadata": {},
     "output_type": "execute_result"
    }
   ],
   "source": [
    "let t1 = [|9;4;3;2;10;6;3;2;4|];;"
   ]
  },
  {
   "cell_type": "code",
   "execution_count": 3,
   "id": "e808947d-37ff-43fd-9402-4cb6d9aa7316",
   "metadata": {},
   "outputs": [
    {
     "data": {
      "text/plain": [
       "- : int = 10\n"
      ]
     },
     "execution_count": 3,
     "metadata": {},
     "output_type": "execute_result"
    }
   ],
   "source": [
    "maxi_t t1;;"
   ]
  },
  {
   "cell_type": "code",
   "execution_count": null,
   "id": "f2253f30-bbcb-44e3-b79f-7f0eb14fbed1",
   "metadata": {},
   "outputs": [],
   "source": [
    "tri_co"
   ]
  }
 ],
 "metadata": {
  "kernelspec": {
   "display_name": "OCaml default",
   "language": "OCaml",
   "name": "ocaml-jupyter"
  },
  "language_info": {
   "codemirror_mode": "text/x-ocaml",
   "file_extension": ".ml",
   "mimetype": "text/x-ocaml",
   "name": "OCaml",
   "nbconverter_exporter": null,
   "pygments_lexer": "OCaml",
   "version": "4.08.1"
  }
 },
 "nbformat": 4,
 "nbformat_minor": 5
}
