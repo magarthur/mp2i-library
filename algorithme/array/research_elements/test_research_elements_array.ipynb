{
 "cells": [
  {
   "cell_type": "code",
   "execution_count": 2,
   "id": "ccdcd487-e1c1-42c4-8787-75bd57659815",
   "metadata": {},
   "outputs": [
    {
     "name": "stdout",
     "output_type": "stream",
     "text": [
      "val mem_t : 'a -> 'a array -> bool = <fun>\n",
      "val dichotomie : 'a -> 'a array -> bool = <fun>\n",
      "val trichotomie : 'a -> 'a array -> bool = <fun>\n"
     ]
    }
   ],
   "source": [
    "#use \"research_elements_array.ml\""
   ]
  },
  {
   "cell_type": "code",
   "execution_count": 3,
   "id": "a35b0805-40e9-436e-b94f-31dfe40ead28",
   "metadata": {},
   "outputs": [
    {
     "data": {
      "text/plain": [
       "val t1 : int array = [|1; 3; 9; 12; 5; 12; 7; 3; -2; 10|]\n"
      ]
     },
     "execution_count": 3,
     "metadata": {},
     "output_type": "execute_result"
    }
   ],
   "source": [
    "let t1 = [|1;3;9;12;5;12;7;3;-2;10|];;"
   ]
  },
  {
   "cell_type": "code",
   "execution_count": 4,
   "id": "c664c0e7-3e79-435a-bce9-4592e60e14fa",
   "metadata": {},
   "outputs": [
    {
     "data": {
      "text/plain": [
       "- : bool = true\n"
      ]
     },
     "execution_count": 4,
     "metadata": {},
     "output_type": "execute_result"
    },
    {
     "data": {
      "text/plain": [
       "- : bool = false\n"
      ]
     },
     "execution_count": 4,
     "metadata": {},
     "output_type": "execute_result"
    }
   ],
   "source": [
    "mem_t 7 t1;;\n",
    "mem_t 13 t1;;"
   ]
  },
  {
   "cell_type": "code",
   "execution_count": 5,
   "id": "7e5910dc-216a-4284-bf62-761b040a6d40",
   "metadata": {},
   "outputs": [
    {
     "data": {
      "text/plain": [
       "val t2 : int array = [|2; 6; 8; 10; 11; 12; 15; 18; 19; 20; 21; 22|]\n"
      ]
     },
     "execution_count": 5,
     "metadata": {},
     "output_type": "execute_result"
    }
   ],
   "source": [
    "let t2 = [|2;6;8;10;11;12;15;18;19;20;21;22|];;"
   ]
  },
  {
   "cell_type": "code",
   "execution_count": 6,
   "id": "f8bcfcaf-5ced-499f-90bd-1eb8fe1b7fb2",
   "metadata": {},
   "outputs": [
    {
     "data": {
      "text/plain": [
       "- : bool = true\n"
      ]
     },
     "execution_count": 6,
     "metadata": {},
     "output_type": "execute_result"
    },
    {
     "data": {
      "text/plain": [
       "- : bool = false\n"
      ]
     },
     "execution_count": 6,
     "metadata": {},
     "output_type": "execute_result"
    }
   ],
   "source": [
    "dichotomie 11 t2;;\n",
    "dichotomie 17 t2;;"
   ]
  },
  {
   "cell_type": "code",
   "execution_count": 7,
   "id": "88836210-a471-4451-9b66-e6d56e03e60f",
   "metadata": {},
   "outputs": [
    {
     "data": {
      "text/plain": [
       "- : bool = true\n"
      ]
     },
     "execution_count": 7,
     "metadata": {},
     "output_type": "execute_result"
    },
    {
     "data": {
      "text/plain": [
       "- : bool = false\n"
      ]
     },
     "execution_count": 7,
     "metadata": {},
     "output_type": "execute_result"
    }
   ],
   "source": [
    "trichotomie 11 t2;;\n",
    "trichotomie 17 t2;;"
   ]
  }
 ],
 "metadata": {
  "kernelspec": {
   "display_name": "OCaml default",
   "language": "OCaml",
   "name": "ocaml-jupyter"
  },
  "language_info": {
   "codemirror_mode": "text/x-ocaml",
   "file_extension": ".ml",
   "mimetype": "text/x-ocaml",
   "name": "OCaml",
   "nbconverter_exporter": null,
   "pygments_lexer": "OCaml",
   "version": "4.08.1"
  }
 },
 "nbformat": 4,
 "nbformat_minor": 5
}
