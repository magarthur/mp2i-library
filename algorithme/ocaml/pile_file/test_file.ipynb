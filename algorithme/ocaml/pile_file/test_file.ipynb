{
 "cells": [
  {
   "cell_type": "code",
   "execution_count": 5,
   "id": "fbff186e-ae81-42d3-9b0a-b1788ed25a49",
   "metadata": {},
   "outputs": [
    {
     "name": "stdout",
     "output_type": "stream",
     "text": [
      "type 'a file = {\n",
      "  tab : 'a array;\n",
      "  mutable deb : int;\n",
      "  mutable fin : int;\n",
      "  mutable vide : bool;\n",
      "}\n",
      "val ajoute : 'a file -> 'a -> unit = <fun>\n",
      "val retire : 'a file -> 'a = <fun>\n",
      "type 'a file = { extra : 'a list; ajout : 'a list; }\n",
      "val add_file : 'a file -> 'a -> 'a file = <fun>\n",
      "val empty_file : 'a file -> bool = <fun>\n",
      "val pop_file : 'a file -> 'a * 'a file = <fun>\n"
     ]
    }
   ],
   "source": [
    "#use \"file.ml\";;"
   ]
  },
  {
   "cell_type": "code",
   "execution_count": 6,
   "id": "8de0a9b8-b206-44ac-ad86-381b27260ef9",
   "metadata": {},
   "outputs": [
    {
     "data": {
      "text/plain": [
       "val t : int file/2 =\n",
       "  {tab = [|-1; -1; -1; -1; -1; -1|]; deb = 0; fin = 0; vide = true}\n"
      ]
     },
     "execution_count": 6,
     "metadata": {},
     "output_type": "execute_result"
    }
   ],
   "source": [
    "let t = { tab = [|-1;-1;-1;-1;-1;-1|]; deb = 0; fin = 0 ; vide = true };;"
   ]
  },
  {
   "cell_type": "code",
   "execution_count": 7,
   "id": "a4880919-9907-44a5-89be-1b2c70af79ce",
   "metadata": {},
   "outputs": [
    {
     "data": {
      "text/plain": [
       "- : unit = ()\n"
      ]
     },
     "execution_count": 7,
     "metadata": {},
     "output_type": "execute_result"
    }
   ],
   "source": [
    "ajoute t 2;;"
   ]
  },
  {
   "cell_type": "code",
   "execution_count": 8,
   "id": "bf124d55-a499-42a3-a175-15561711a424",
   "metadata": {},
   "outputs": [
    {
     "data": {
      "text/plain": [
       "- : int file/2 =\n",
       "{tab = [|2; -1; -1; -1; -1; -1|]; deb = 0; fin = 1; vide = false}\n"
      ]
     },
     "execution_count": 8,
     "metadata": {},
     "output_type": "execute_result"
    }
   ],
   "source": [
    "t;;"
   ]
  },
  {
   "cell_type": "code",
   "execution_count": 9,
   "id": "1b06b3a4-40d7-4aca-8d23-9c60889cdd8c",
   "metadata": {},
   "outputs": [
    {
     "data": {
      "text/plain": [
       "- : unit = ()\n"
      ]
     },
     "execution_count": 9,
     "metadata": {},
     "output_type": "execute_result"
    }
   ],
   "source": [
    "for i = 3 to 5 do\n",
    "    ajoute t i\n",
    "done;"
   ]
  },
  {
   "cell_type": "code",
   "execution_count": 10,
   "id": "fe752507-e600-4730-825a-93fcca61a79b",
   "metadata": {},
   "outputs": [
    {
     "data": {
      "text/plain": [
       "- : int file/2 =\n",
       "{tab = [|2; 3; 4; 5; -1; -1|]; deb = 0; fin = 4; vide = false}\n"
      ]
     },
     "execution_count": 10,
     "metadata": {},
     "output_type": "execute_result"
    }
   ],
   "source": [
    "t"
   ]
  },
  {
   "cell_type": "code",
   "execution_count": 11,
   "id": "7e5fc853-4d6b-4603-bddb-e821a3297900",
   "metadata": {},
   "outputs": [
    {
     "data": {
      "text/plain": [
       "- : int = 2\n"
      ]
     },
     "execution_count": 11,
     "metadata": {},
     "output_type": "execute_result"
    }
   ],
   "source": [
    "retire t;;"
   ]
  },
  {
   "cell_type": "code",
   "execution_count": 12,
   "id": "da851325-700d-4626-877c-752e3ce93638",
   "metadata": {},
   "outputs": [
    {
     "data": {
      "text/plain": [
       "- : int file/2 =\n",
       "{tab = [|2; 3; 4; 5; -1; -1|]; deb = 1; fin = 4; vide = false}\n"
      ]
     },
     "execution_count": 12,
     "metadata": {},
     "output_type": "execute_result"
    }
   ],
   "source": [
    "t;;"
   ]
  },
  {
   "cell_type": "code",
   "execution_count": 18,
   "id": "308a52f7-39e7-48f3-98fd-454798acd9f8",
   "metadata": {},
   "outputs": [
    {
     "data": {
      "text/plain": [
       "val l1 : int file = {extra = [2; 3]; ajout = [2; 3; 6]}\n"
      ]
     },
     "execution_count": 18,
     "metadata": {},
     "output_type": "execute_result"
    }
   ],
   "source": [
    "let l1 = {extra = [2;3]; ajout = [2;3;6]};;"
   ]
  },
  {
   "cell_type": "code",
   "execution_count": 19,
   "id": "3de94d1e-5ba7-4f21-aded-3dba7e7bd99f",
   "metadata": {},
   "outputs": [
    {
     "data": {
      "text/plain": [
       "- : int file = {extra = [2; 3]; ajout = [2; 2; 3; 6]}\n"
      ]
     },
     "execution_count": 19,
     "metadata": {},
     "output_type": "execute_result"
    }
   ],
   "source": [
    "add_file l1 2;;"
   ]
  },
  {
   "cell_type": "code",
   "execution_count": 20,
   "id": "320a0c3c-812e-4cef-90e4-f19c5e61bdd7",
   "metadata": {},
   "outputs": [
    {
     "data": {
      "text/plain": [
       "- : bool = false\n"
      ]
     },
     "execution_count": 20,
     "metadata": {},
     "output_type": "execute_result"
    }
   ],
   "source": [
    "empty_file l1;;"
   ]
  },
  {
   "cell_type": "code",
   "execution_count": 22,
   "id": "8ac25765-4229-4c17-995f-550dcd10beb3",
   "metadata": {},
   "outputs": [
    {
     "data": {
      "text/plain": [
       "- : int * int file = (2, {extra = [3]; ajout = [2; 3; 6]})\n"
      ]
     },
     "execution_count": 22,
     "metadata": {},
     "output_type": "execute_result"
    },
    {
     "ename": "interrupt",
     "evalue": "intterupt",
     "output_type": "error",
     "traceback": [
      "\u001b[31mException: Sys.Break.\u001b[0m"
     ]
    }
   ],
   "source": [
    "pop_file l1;;"
   ]
  }
 ],
 "metadata": {
  "kernelspec": {
   "display_name": "OCaml default",
   "language": "OCaml",
   "name": "ocaml-jupyter"
  },
  "language_info": {
   "codemirror_mode": "text/x-ocaml",
   "file_extension": ".ml",
   "mimetype": "text/x-ocaml",
   "name": "OCaml",
   "nbconverter_exporter": null,
   "pygments_lexer": "OCaml",
   "version": "4.08.1"
  }
 },
 "nbformat": 4,
 "nbformat_minor": 5
}
