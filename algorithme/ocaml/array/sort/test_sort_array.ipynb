{
 "cells": [
  {
   "cell_type": "code",
   "execution_count": 1,
   "id": "8060041b-330c-4242-b03f-7a992a769df7",
   "metadata": {},
   "outputs": [
    {
     "name": "stdout",
     "output_type": "stream",
     "text": [
      "val maxi_t : int array -> int = <fun>\n",
      "val tri_comptage_t : int array -> int array = <fun>\n",
      "val swap_t : 'a array -> int -> int -> unit = <fun>\n",
      "val sort_bubble_t : 'a array -> unit = <fun>\n"
     ]
    }
   ],
   "source": [
    "#use \"sort_array.ml\";;"
   ]
  },
  {
   "cell_type": "code",
   "execution_count": 2,
   "id": "e807f091-ab81-47f0-b37b-1a054012089e",
   "metadata": {},
   "outputs": [
    {
     "data": {
      "text/plain": [
       "val t1 : int array = [|9; 4; 3; 2; 10; 6; 3; 2; 4|]\n"
      ]
     },
     "execution_count": 2,
     "metadata": {},
     "output_type": "execute_result"
    }
   ],
   "source": [
    "let t1 = [|9;4;3;2;10;6;3;2;4|];;"
   ]
  },
  {
   "cell_type": "code",
   "execution_count": 3,
   "id": "e808947d-37ff-43fd-9402-4cb6d9aa7316",
   "metadata": {},
   "outputs": [
    {
     "data": {
      "text/plain": [
       "- : int = 10\n"
      ]
     },
     "execution_count": 3,
     "metadata": {},
     "output_type": "execute_result"
    }
   ],
   "source": [
    "maxi_t t1;;"
   ]
  },
  {
   "cell_type": "code",
   "execution_count": 4,
   "id": "f2253f30-bbcb-44e3-b79f-7f0eb14fbed1",
   "metadata": {},
   "outputs": [
    {
     "data": {
      "text/plain": [
       "- : int array = [|2; 2; 3; 3; 4; 4; 6; 9; 10|]\n"
      ]
     },
     "execution_count": 4,
     "metadata": {},
     "output_type": "execute_result"
    }
   ],
   "source": [
    "tri_comptage_t t1;;"
   ]
  },
  {
   "cell_type": "code",
   "execution_count": 5,
   "id": "c156f7fc-dbd8-4984-be17-b52aaa0d586b",
   "metadata": {},
   "outputs": [
    {
     "data": {
      "text/plain": [
       "val t2 : int array = [|9; 4; 3; 2; 10; 6; 3; 2; 4|]\n"
      ]
     },
     "execution_count": 5,
     "metadata": {},
     "output_type": "execute_result"
    }
   ],
   "source": [
    "let t2 = [|9;4;3;2;10;6;3;2;4|];; "
   ]
  },
  {
   "cell_type": "code",
   "execution_count": 6,
   "id": "e33a1d08-896f-4dbd-a18d-a98d15fba62c",
   "metadata": {},
   "outputs": [
    {
     "data": {
      "text/plain": [
       "- : unit = ()\n"
      ]
     },
     "execution_count": 6,
     "metadata": {},
     "output_type": "execute_result"
    }
   ],
   "source": [
    "sort_bubble_t t2;;"
   ]
  },
  {
   "cell_type": "code",
   "execution_count": 7,
   "id": "a639ea08-56ca-47f0-ba13-8cf4604d4ad7",
   "metadata": {},
   "outputs": [
    {
     "data": {
      "text/plain": [
       "- : int array = [|2; 2; 3; 3; 4; 4; 6; 9; 10|]\n"
      ]
     },
     "execution_count": 7,
     "metadata": {},
     "output_type": "execute_result"
    }
   ],
   "source": [
    "t2"
   ]
  }
 ],
 "metadata": {
  "kernelspec": {
   "display_name": "OCaml default",
   "language": "OCaml",
   "name": "ocaml-jupyter"
  },
  "language_info": {
   "codemirror_mode": "text/x-ocaml",
   "file_extension": ".ml",
   "mimetype": "text/x-ocaml",
   "name": "OCaml",
   "nbconverter_exporter": null,
   "pygments_lexer": "OCaml",
   "version": "4.08.1"
  }
 },
 "nbformat": 4,
 "nbformat_minor": 5
}
