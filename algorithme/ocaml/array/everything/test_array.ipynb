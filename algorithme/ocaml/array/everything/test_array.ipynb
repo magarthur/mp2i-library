{
 "cells": [
  {
   "cell_type": "code",
   "execution_count": 1,
   "id": "e34dfbca-89a4-4a09-a073-b31dad11ea1c",
   "metadata": {},
   "outputs": [
    {
     "name": "stdout",
     "output_type": "stream",
     "text": [
      "val sum_t : int array -> int = <fun>\n",
      "val mem_t : 'a -> 'a array -> bool = <fun>\n",
      "val mini_t : int array -> int = <fun>\n",
      "val maxi_t : int array -> int = <fun>\n",
      "val increase_t : 'a array -> bool = <fun>\n",
      "val decrease_t : 'a array -> bool = <fun>\n",
      "val doublon_t : 'a array -> bool = <fun>\n",
      "val reverse_t : 'a array -> 'a array = <fun>\n",
      "val equal_t : 'a array -> 'a array -> bool = <fun>\n",
      "val slice_max_t : int array -> int = <fun>\n",
      "val map_t : ('a -> 'a) -> 'a array -> 'a array = <fun>\n",
      "val for_all_t : ('a -> bool) -> 'a array -> bool = <fun>\n",
      "val exists_t : ('a -> bool) -> 'a array -> bool = <fun>\n",
      "val dichotomie : 'a -> 'a array -> bool = <fun>\n",
      "val trichotomie : 'a -> 'a array -> bool = <fun>\n",
      "val tri_comptage_t : int array -> int array = <fun>\n",
      "val swap_t : 'a array -> int -> int -> unit = <fun>\n",
      "val sort_bubble_t : 'a array -> unit = <fun>\n",
      "val length_l : 'a list -> int = <fun>\n",
      "val array_of_list : int list -> int array = <fun>\n",
      "val array_to_list : 'a array -> 'a list = <fun>\n"
     ]
    }
   ],
   "source": [
    "#use \"array.ml\";;"
   ]
  },
  {
   "cell_type": "code",
   "execution_count": 2,
   "id": "747abae8-f06b-42d9-91de-b71ace616d50",
   "metadata": {},
   "outputs": [
    {
     "data": {
      "text/plain": [
       "val t1 : int array = [|1; 3; -5; 8; 10; 11; 7; 5; 3|]\n"
      ]
     },
     "execution_count": 2,
     "metadata": {},
     "output_type": "execute_result"
    }
   ],
   "source": [
    "let t1 = [|1;3;-5;8;10;11;7;5;3|];;"
   ]
  },
  {
   "cell_type": "code",
   "execution_count": 3,
   "id": "9823ac48-a3a6-4699-919d-81161f765c6b",
   "metadata": {},
   "outputs": [
    {
     "data": {
      "text/plain": [
       "- : int = 43\n"
      ]
     },
     "execution_count": 3,
     "metadata": {},
     "output_type": "execute_result"
    }
   ],
   "source": [
    "sum_t t1;;"
   ]
  },
  {
   "cell_type": "code",
   "execution_count": 4,
   "id": "ae86e0a1-e329-4662-aa88-6167c65a8d10",
   "metadata": {},
   "outputs": [
    {
     "data": {
      "text/plain": [
       "- : bool = true\n"
      ]
     },
     "execution_count": 4,
     "metadata": {},
     "output_type": "execute_result"
    },
    {
     "data": {
      "text/plain": [
       "- : bool = false\n"
      ]
     },
     "execution_count": 4,
     "metadata": {},
     "output_type": "execute_result"
    }
   ],
   "source": [
    "mem_t 8 t1;;\n",
    "mem_t 12 t1;;"
   ]
  },
  {
   "cell_type": "code",
   "execution_count": 5,
   "id": "9ee84b24-4832-4cf3-b1e3-e50bb1ea0708",
   "metadata": {},
   "outputs": [
    {
     "data": {
      "text/plain": [
       "- : int = -5\n"
      ]
     },
     "execution_count": 5,
     "metadata": {},
     "output_type": "execute_result"
    }
   ],
   "source": [
    "mini_t t1;;"
   ]
  },
  {
   "cell_type": "code",
   "execution_count": 6,
   "id": "a133d267-9bb7-47e5-b98f-3833eb0e66e5",
   "metadata": {},
   "outputs": [
    {
     "data": {
      "text/plain": [
       "- : int = 11\n"
      ]
     },
     "execution_count": 6,
     "metadata": {},
     "output_type": "execute_result"
    }
   ],
   "source": [
    "maxi_t t1;;"
   ]
  },
  {
   "cell_type": "code",
   "execution_count": 7,
   "id": "86124ddc-f8a8-4f34-8c6c-1fbcf525c90c",
   "metadata": {},
   "outputs": [
    {
     "data": {
      "text/plain": [
       "- : bool = false\n"
      ]
     },
     "execution_count": 7,
     "metadata": {},
     "output_type": "execute_result"
    },
    {
     "data": {
      "text/plain": [
       "- : bool = false\n"
      ]
     },
     "execution_count": 7,
     "metadata": {},
     "output_type": "execute_result"
    }
   ],
   "source": [
    "increase_t t1;;\n",
    "decrease_t t1;;"
   ]
  },
  {
   "cell_type": "code",
   "execution_count": 8,
   "id": "5e571ad1-1cfc-4343-8a70-6627b8e8ce49",
   "metadata": {},
   "outputs": [
    {
     "data": {
      "text/plain": [
       "- : bool = true\n"
      ]
     },
     "execution_count": 8,
     "metadata": {},
     "output_type": "execute_result"
    }
   ],
   "source": [
    "doublon_t t1;;"
   ]
  },
  {
   "cell_type": "code",
   "execution_count": 9,
   "id": "baba3509-8945-4818-bc08-88056346b61b",
   "metadata": {},
   "outputs": [
    {
     "data": {
      "text/plain": [
       "- : int array = [|3; 5; 7; 11; 10; 8; -5; 3; 1|]\n"
      ]
     },
     "execution_count": 9,
     "metadata": {},
     "output_type": "execute_result"
    }
   ],
   "source": [
    "reverse_t t1;;"
   ]
  },
  {
   "cell_type": "code",
   "execution_count": 11,
   "id": "30476491-71b9-404f-a7af-046c24df0006",
   "metadata": {},
   "outputs": [
    {
     "data": {
      "text/plain": [
       "val t2 : int array = [|1; 3; 5; 7; 9; 11|]\n"
      ]
     },
     "execution_count": 11,
     "metadata": {},
     "output_type": "execute_result"
    },
    {
     "data": {
      "text/plain": [
       "val t3 : int array = [|1; 3; 5; 7; 9; 11|]\n"
      ]
     },
     "execution_count": 11,
     "metadata": {},
     "output_type": "execute_result"
    }
   ],
   "source": [
    "let t2 = [|1;3;5;7;9;11|];;\n",
    "let t3 = [|1;3;5;7;9;11|];;"
   ]
  },
  {
   "cell_type": "code",
   "execution_count": 12,
   "id": "35829710-1b12-4004-b6b9-729a7654ea10",
   "metadata": {},
   "outputs": [
    {
     "data": {
      "text/plain": [
       "- : bool = false\n"
      ]
     },
     "execution_count": 12,
     "metadata": {},
     "output_type": "execute_result"
    },
    {
     "data": {
      "text/plain": [
       "- : bool = true\n"
      ]
     },
     "execution_count": 12,
     "metadata": {},
     "output_type": "execute_result"
    }
   ],
   "source": [
    "equal_t t1 t2;;\n",
    "equal_t t2 t3;;"
   ]
  },
  {
   "cell_type": "code",
   "execution_count": 13,
   "id": "72570251-2cc0-454b-892e-7d9f18216541",
   "metadata": {},
   "outputs": [
    {
     "data": {
      "text/plain": [
       "- : int = 44\n"
      ]
     },
     "execution_count": 13,
     "metadata": {},
     "output_type": "execute_result"
    }
   ],
   "source": [
    "slice_max_t t1;;"
   ]
  },
  {
   "cell_type": "code",
   "execution_count": 15,
   "id": "269b4080-8ef9-4323-a3ce-46a655cadf9f",
   "metadata": {},
   "outputs": [
    {
     "data": {
      "text/plain": [
       "val t4 : int array = [|1; 3; -5; 7; 2; 9; 10; 4|]\n"
      ]
     },
     "execution_count": 15,
     "metadata": {},
     "output_type": "execute_result"
    }
   ],
   "source": [
    "let t4 = [|1;3;-5;7;2;9;10;4|];;"
   ]
  },
  {
   "cell_type": "code",
   "execution_count": 16,
   "id": "04070d21-24e2-46f6-9598-1d911864df49",
   "metadata": {},
   "outputs": [
    {
     "data": {
      "text/plain": [
       "- : int array = [|2; 6; -10; 14; 4; 18; 20; 8|]\n"
      ]
     },
     "execution_count": 16,
     "metadata": {},
     "output_type": "execute_result"
    }
   ],
   "source": [
    "map_t (fun x -> 2*x) t4;;"
   ]
  },
  {
   "cell_type": "code",
   "execution_count": 17,
   "id": "1548eb11-515a-42fa-9c44-63adc45db970",
   "metadata": {},
   "outputs": [
    {
     "data": {
      "text/plain": [
       "- : bool = false\n"
      ]
     },
     "execution_count": 17,
     "metadata": {},
     "output_type": "execute_result"
    }
   ],
   "source": [
    "for_all_t (fun x -> x>0) t4;;"
   ]
  },
  {
   "cell_type": "code",
   "execution_count": 18,
   "id": "a1346cc3-2b37-4a0b-ac38-4332aeee718e",
   "metadata": {},
   "outputs": [
    {
     "data": {
      "text/plain": [
       "- : bool = true\n"
      ]
     },
     "execution_count": 18,
     "metadata": {},
     "output_type": "execute_result"
    }
   ],
   "source": [
    "exists_t (fun x -> x>0) t4;;"
   ]
  },
  {
   "cell_type": "code",
   "execution_count": 19,
   "id": "8d1af7b2-22e3-44bd-b2ab-153514a2626b",
   "metadata": {},
   "outputs": [
    {
     "data": {
      "text/plain": [
       "val t5 : int array = [|2; 6; 8; 10; 11; 12; 15; 18; 19; 20; 21; 22|]\n"
      ]
     },
     "execution_count": 19,
     "metadata": {},
     "output_type": "execute_result"
    }
   ],
   "source": [
    "let t5 = [|2;6;8;10;11;12;15;18;19;20;21;22|];;"
   ]
  },
  {
   "cell_type": "code",
   "execution_count": 20,
   "id": "12c7b87e-29bc-4adf-bee4-193d42b71d88",
   "metadata": {},
   "outputs": [
    {
     "data": {
      "text/plain": [
       "- : bool = true\n"
      ]
     },
     "execution_count": 20,
     "metadata": {},
     "output_type": "execute_result"
    },
    {
     "data": {
      "text/plain": [
       "- : bool = false\n"
      ]
     },
     "execution_count": 20,
     "metadata": {},
     "output_type": "execute_result"
    }
   ],
   "source": [
    "dichotomie 10 t5;;\n",
    "dichotomie 13 t5;;"
   ]
  },
  {
   "cell_type": "code",
   "execution_count": 21,
   "id": "2f076b48-921f-4658-b9e8-edfedccf1a26",
   "metadata": {},
   "outputs": [
    {
     "data": {
      "text/plain": [
       "- : bool = true\n"
      ]
     },
     "execution_count": 21,
     "metadata": {},
     "output_type": "execute_result"
    },
    {
     "data": {
      "text/plain": [
       "- : bool = false\n"
      ]
     },
     "execution_count": 21,
     "metadata": {},
     "output_type": "execute_result"
    }
   ],
   "source": [
    "trichotomie 10 t5;;\n",
    "trichotomie 13 t5;;"
   ]
  },
  {
   "cell_type": "code",
   "execution_count": 22,
   "id": "882bcf3e-6871-4d04-bc5d-2ab15913a4cc",
   "metadata": {},
   "outputs": [
    {
     "data": {
      "text/plain": [
       "val t6 : int array = [|9; 4; 3; 2; 10; 6; 3; 2; 4|]\n"
      ]
     },
     "execution_count": 22,
     "metadata": {},
     "output_type": "execute_result"
    }
   ],
   "source": [
    "let t6 = [|9;4;3;2;10;6;3;2;4|];; "
   ]
  },
  {
   "cell_type": "code",
   "execution_count": 23,
   "id": "25bfca30-5920-49e0-b54c-f19e105070d9",
   "metadata": {},
   "outputs": [
    {
     "data": {
      "text/plain": [
       "- : int array = [|2; 2; 3; 3; 4; 4; 6; 9; 10|]\n"
      ]
     },
     "execution_count": 23,
     "metadata": {},
     "output_type": "execute_result"
    }
   ],
   "source": [
    "tri_comptage_t t6;;"
   ]
  },
  {
   "cell_type": "code",
   "execution_count": 25,
   "id": "2aa2c6e9-b072-43ea-ab7a-370b943fb1b1",
   "metadata": {},
   "outputs": [
    {
     "data": {
      "text/plain": [
       "val t7 : int array = [|9; 4; 3; 2; 10; 6; 3; 2; 4|]\n"
      ]
     },
     "execution_count": 25,
     "metadata": {},
     "output_type": "execute_result"
    }
   ],
   "source": [
    "let t7 = [|9;4;3;2;10;6;3;2;4|];; "
   ]
  },
  {
   "cell_type": "code",
   "execution_count": 26,
   "id": "a24d0657-e7d7-4edf-b920-bedd39ee3b84",
   "metadata": {},
   "outputs": [
    {
     "data": {
      "text/plain": [
       "- : unit = ()\n"
      ]
     },
     "execution_count": 26,
     "metadata": {},
     "output_type": "execute_result"
    }
   ],
   "source": [
    "sort_bubble_t t7;;"
   ]
  },
  {
   "cell_type": "code",
   "execution_count": 27,
   "id": "39394014-6760-49e4-b10e-7c68a40b01a0",
   "metadata": {},
   "outputs": [
    {
     "data": {
      "text/plain": [
       "- : int array = [|2; 2; 3; 3; 4; 4; 6; 9; 10|]\n"
      ]
     },
     "execution_count": 27,
     "metadata": {},
     "output_type": "execute_result"
    }
   ],
   "source": [
    "t7;;"
   ]
  },
  {
   "cell_type": "code",
   "execution_count": 28,
   "id": "8d69e465-4ef5-4f02-9563-f0ad690386fd",
   "metadata": {},
   "outputs": [
    {
     "data": {
      "text/plain": [
       "val l : int list = [1; -2; 5; 3; 10; 23; 12; -4]\n"
      ]
     },
     "execution_count": 28,
     "metadata": {},
     "output_type": "execute_result"
    },
    {
     "data": {
      "text/plain": [
       "val t : int array = [|1; -2; 5; 3; 10; 23; 12; -4|]\n"
      ]
     },
     "execution_count": 28,
     "metadata": {},
     "output_type": "execute_result"
    }
   ],
   "source": [
    "let l =[1;-2;5;3;10;23;12;-4];;\n",
    "let t =[|1;-2;5;3;10;23;12;-4|];;"
   ]
  },
  {
   "cell_type": "code",
   "execution_count": 29,
   "id": "accfc175-55aa-4397-9460-4657a7b75730",
   "metadata": {},
   "outputs": [
    {
     "data": {
      "text/plain": [
       "- : int = 8\n"
      ]
     },
     "execution_count": 29,
     "metadata": {},
     "output_type": "execute_result"
    }
   ],
   "source": [
    "length_l l;;"
   ]
  },
  {
   "cell_type": "code",
   "execution_count": 31,
   "id": "afc3d2fe-3ae8-4daa-bcf6-f0fb461bd7a3",
   "metadata": {},
   "outputs": [
    {
     "data": {
      "text/plain": [
       "- : int array = [|1; -2; 5; 3; 10; 23; 12; -4|]\n"
      ]
     },
     "execution_count": 31,
     "metadata": {},
     "output_type": "execute_result"
    }
   ],
   "source": [
    "array_of_list l;;"
   ]
  },
  {
   "cell_type": "code",
   "execution_count": 32,
   "id": "0be2d963-bf50-49d9-be63-1978f8dfd480",
   "metadata": {},
   "outputs": [
    {
     "data": {
      "text/plain": [
       "- : int list = [1; -2; 5; 3; 10; 23; 12; -4]\n"
      ]
     },
     "execution_count": 32,
     "metadata": {},
     "output_type": "execute_result"
    }
   ],
   "source": [
    "array_to_list t;;"
   ]
  },
  {
   "cell_type": "code",
   "execution_count": null,
   "id": "45120871-6605-4033-baf1-92764c546f14",
   "metadata": {},
   "outputs": [],
   "source": []
  }
 ],
 "metadata": {
  "kernelspec": {
   "display_name": "OCaml default",
   "language": "OCaml",
   "name": "ocaml-jupyter"
  },
  "language_info": {
   "codemirror_mode": "text/x-ocaml",
   "file_extension": ".ml",
   "mimetype": "text/x-ocaml",
   "name": "OCaml",
   "nbconverter_exporter": null,
   "pygments_lexer": "OCaml",
   "version": "4.08.1"
  }
 },
 "nbformat": 4,
 "nbformat_minor": 5
}
