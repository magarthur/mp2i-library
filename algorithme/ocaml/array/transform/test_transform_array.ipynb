{
 "cells": [
  {
   "cell_type": "code",
   "execution_count": 1,
   "id": "2a110cc1-eb73-47ad-83f8-663b0b21f814",
   "metadata": {},
   "outputs": [
    {
     "name": "stdout",
     "output_type": "stream",
     "text": [
      "val slice_max_t : int array -> int = <fun>\n",
      "val map_t : ('a -> 'a) -> 'a array -> 'a array = <fun>\n",
      "val for_all_t : ('a -> bool) -> 'a array -> bool = <fun>\n",
      "val exists_t : ('a -> bool) -> 'a array -> bool = <fun>\n",
      "val length_l : 'a list -> int = <fun>\n",
      "val array_of_list : int list -> int array = <fun>\n",
      "val array_to_list : 'a array -> 'a list = <fun>\n"
     ]
    }
   ],
   "source": [
    "#use \"transform_array.ml\";;"
   ]
  },
  {
   "cell_type": "code",
   "execution_count": 2,
   "id": "c42e65cd-f2a0-4932-8d0a-a366c45646cd",
   "metadata": {},
   "outputs": [
    {
     "data": {
      "text/plain": [
       "val t1 : int array = [|1; -2; 8; -3; 10; -4; 9|]\n"
      ]
     },
     "execution_count": 2,
     "metadata": {},
     "output_type": "execute_result"
    }
   ],
   "source": [
    "let t1 = [|1;-2;8;-3;10;-4;9|];;"
   ]
  },
  {
   "cell_type": "code",
   "execution_count": 3,
   "id": "673cddd4-7b79-4ad8-b3c5-2b2c0321c5be",
   "metadata": {},
   "outputs": [
    {
     "data": {
      "text/plain": [
       "- : int = 20\n"
      ]
     },
     "execution_count": 3,
     "metadata": {},
     "output_type": "execute_result"
    }
   ],
   "source": [
    "slice_max_t t1;;"
   ]
  },
  {
   "cell_type": "code",
   "execution_count": 4,
   "id": "e9d8b042-644e-4a04-8475-bf25e7bd93c6",
   "metadata": {},
   "outputs": [
    {
     "data": {
      "text/plain": [
       "- : int array = [|2; -4; 16; -6; 20; -8; 18|]\n"
      ]
     },
     "execution_count": 4,
     "metadata": {},
     "output_type": "execute_result"
    }
   ],
   "source": [
    "map_t (fun x->2*x) t1;;"
   ]
  },
  {
   "cell_type": "code",
   "execution_count": 5,
   "id": "5976b70c-e0cb-4473-b450-922c4fe27fea",
   "metadata": {},
   "outputs": [
    {
     "data": {
      "text/plain": [
       "- : bool = false\n"
      ]
     },
     "execution_count": 5,
     "metadata": {},
     "output_type": "execute_result"
    }
   ],
   "source": [
    "for_all_t (fun x -> x > 0) t1;;"
   ]
  },
  {
   "cell_type": "code",
   "execution_count": 6,
   "id": "9c552722-a41e-4e6d-9774-1314745d4e15",
   "metadata": {},
   "outputs": [
    {
     "data": {
      "text/plain": [
       "- : bool = true\n"
      ]
     },
     "execution_count": 6,
     "metadata": {},
     "output_type": "execute_result"
    }
   ],
   "source": [
    "exists_t (fun x -> x>0) t1;;"
   ]
  },
  {
   "cell_type": "code",
   "execution_count": 7,
   "id": "1069bcd1-3579-44ce-aaa6-1ed4d0a8b795",
   "metadata": {},
   "outputs": [
    {
     "data": {
      "text/plain": [
       "val l1 : int list = [1; 2; 8; -3; 10; -4; 9]\n"
      ]
     },
     "execution_count": 7,
     "metadata": {},
     "output_type": "execute_result"
    }
   ],
   "source": [
    "let l1 = [1;2;8;-3;10;-4;9]"
   ]
  },
  {
   "cell_type": "code",
   "execution_count": 8,
   "id": "f3202105-3251-4e39-bca7-ef2491bd2eeb",
   "metadata": {},
   "outputs": [
    {
     "data": {
      "text/plain": [
       "- : int array = [|1; 2; 8; -3; 10; -4; 9|]\n"
      ]
     },
     "execution_count": 8,
     "metadata": {},
     "output_type": "execute_result"
    }
   ],
   "source": [
    "array_of_list l1;;"
   ]
  },
  {
   "cell_type": "code",
   "execution_count": 9,
   "id": "9f7d4b85-4218-4a75-89db-ef31a30d75f3",
   "metadata": {},
   "outputs": [
    {
     "data": {
      "text/plain": [
       "- : int list = [2; -4; 16; -6; 20; -8; 18]\n"
      ]
     },
     "execution_count": 9,
     "metadata": {},
     "output_type": "execute_result"
    }
   ],
   "source": [
    "array_to_list t1;;"
   ]
  }
 ],
 "metadata": {
  "kernelspec": {
   "display_name": "OCaml default",
   "language": "OCaml",
   "name": "ocaml-jupyter"
  },
  "language_info": {
   "codemirror_mode": "text/x-ocaml",
   "file_extension": ".ml",
   "mimetype": "text/x-ocaml",
   "name": "OCaml",
   "nbconverter_exporter": null,
   "pygments_lexer": "OCaml",
   "version": "4.08.1"
  }
 },
 "nbformat": 4,
 "nbformat_minor": 5
}
