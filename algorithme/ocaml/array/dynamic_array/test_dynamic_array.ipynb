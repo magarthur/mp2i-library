{
 "cells": [
  {
   "cell_type": "code",
   "execution_count": 4,
   "id": "c3cc1527-1263-4047-b242-4e56b4c8ac96",
   "metadata": {},
   "outputs": [
    {
     "name": "stdout",
     "output_type": "stream",
     "text": [
      "type 'a dyn = { mutable t : 'a array; mutable n : int; }\n",
      "val copy : 'a array -> 'a array -> unit = <fun>\n",
      "val add : 'a -> 'a dyn -> unit = <fun>\n",
      "val del : 'a dyn -> 'a = <fun>\n"
     ]
    }
   ],
   "source": [
    "#use \"dynamic_array.ml\";;"
   ]
  },
  {
   "cell_type": "code",
   "execution_count": 5,
   "id": "b59d4054-377f-46e8-ab00-28a3b5e278f8",
   "metadata": {},
   "outputs": [
    {
     "data": {
      "text/plain": [
       "val t1 : int array = [|1; 2; 3; 4; 5; 6; 7; 8; 9; 10|]\n"
      ]
     },
     "execution_count": 5,
     "metadata": {},
     "output_type": "execute_result"
    }
   ],
   "source": [
    "let t1 = [|1;2;3;4;5;6;7;8;9;10|]"
   ]
  },
  {
   "cell_type": "code",
   "execution_count": 6,
   "id": "68d95459-84c6-4d70-86f2-d141d83e5c6e",
   "metadata": {},
   "outputs": [
    {
     "data": {
      "text/plain": [
       "val t2 : int array = [|10; 9; 8; 7; 6; 5; 4; 3; 2; 1|]\n"
      ]
     },
     "execution_count": 6,
     "metadata": {},
     "output_type": "execute_result"
    }
   ],
   "source": [
    "let t2 = [|10;9;8;7;6;5;4;3;2;1|]"
   ]
  },
  {
   "cell_type": "code",
   "execution_count": 7,
   "id": "c1ae0a12-1384-4eab-beb3-5d3f8d016ffc",
   "metadata": {},
   "outputs": [
    {
     "data": {
      "text/plain": [
       "- : unit = ()\n"
      ]
     },
     "execution_count": 7,
     "metadata": {},
     "output_type": "execute_result"
    }
   ],
   "source": [
    "copy t1 t2"
   ]
  },
  {
   "cell_type": "code",
   "execution_count": 8,
   "id": "d51ebbfe-8c26-4df4-9961-df63e5b29424",
   "metadata": {},
   "outputs": [
    {
     "data": {
      "text/plain": [
       "- : int array = [|1; 2; 3; 4; 5; 6; 7; 8; 9; 10|]\n"
      ]
     },
     "execution_count": 8,
     "metadata": {},
     "output_type": "execute_result"
    }
   ],
   "source": [
    "t2"
   ]
  },
  {
   "cell_type": "code",
   "execution_count": 9,
   "id": "c3f95119-d719-4ff1-8b6e-00c02dd1b360",
   "metadata": {},
   "outputs": [
    {
     "data": {
      "text/plain": [
       "val d : '_weak1 dyn = {t = [||]; n = 0}\n"
      ]
     },
     "execution_count": 9,
     "metadata": {},
     "output_type": "execute_result"
    }
   ],
   "source": [
    "let d = {t = [||]; n = 0}"
   ]
  },
  {
   "cell_type": "code",
   "execution_count": 10,
   "id": "279bf00e-ee29-4865-b7df-d1220ff55a04",
   "metadata": {},
   "outputs": [
    {
     "data": {
      "text/plain": [
       "- : unit = ()\n"
      ]
     },
     "execution_count": 10,
     "metadata": {},
     "output_type": "execute_result"
    }
   ],
   "source": [
    "for i = 0 to 10 do \n",
    "    add i d\n",
    "done;"
   ]
  },
  {
   "cell_type": "code",
   "execution_count": 11,
   "id": "78107537-09f2-419f-aa1e-bac22d98de67",
   "metadata": {},
   "outputs": [
    {
     "data": {
      "text/plain": [
       "- : int dyn =\n",
       "{t = [|0; 1; 2; 3; 4; 5; 6; 7; 8; 9; 10; 0; 0; 0; 0; 0|]; n = 11}\n"
      ]
     },
     "execution_count": 11,
     "metadata": {},
     "output_type": "execute_result"
    }
   ],
   "source": [
    "d"
   ]
  },
  {
   "cell_type": "code",
   "execution_count": 12,
   "id": "d81ba851-ace8-4dbd-8333-859ea73b5640",
   "metadata": {},
   "outputs": [
    {
     "data": {
      "text/plain": [
       "- : int = 10\n"
      ]
     },
     "execution_count": 12,
     "metadata": {},
     "output_type": "execute_result"
    }
   ],
   "source": [
    "del d;;"
   ]
  }
 ],
 "metadata": {
  "kernelspec": {
   "display_name": "OCaml default",
   "language": "OCaml",
   "name": "ocaml-jupyter"
  },
  "language_info": {
   "codemirror_mode": "text/x-ocaml",
   "file_extension": ".ml",
   "mimetype": "text/x-ocaml",
   "name": "OCaml",
   "nbconverter_exporter": null,
   "pygments_lexer": "OCaml",
   "version": "4.08.1"
  }
 },
 "nbformat": 4,
 "nbformat_minor": 5
}
