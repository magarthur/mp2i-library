{
 "cells": [
  {
   "cell_type": "code",
   "execution_count": 1,
   "id": "ae38d636-534d-4429-b0be-d67537997c49",
   "metadata": {},
   "outputs": [
    {
     "name": "stdout",
     "output_type": "stream",
     "text": [
      "val fst_l : 'a list -> 'a = <fun>\n",
      "val lst_l : 'a list -> 'a = <fun>\n",
      "val nth_l : int -> 'a list -> 'a = <fun>\n",
      "val length_l : 'a list -> int = <fun>\n",
      "val sum_l : int list -> int = <fun>\n",
      "val mem_l : 'a -> 'a list -> bool = <fun>\n",
      "val append_l : 'a list -> 'a list -> 'a list = <fun>\n",
      "val rev_append_l : 'a list -> 'a list -> 'a list = <fun>\n",
      "val mini_l : int list -> int = <fun>\n",
      "val maxi_l : int list -> int = <fun>\n",
      "val increase_l : 'a list -> bool = <fun>\n",
      "val decrease_l : 'a list -> bool = <fun>\n",
      "val doublon_l : 'a list -> bool = <fun>\n",
      "val doublon2_l : 'a list -> 'a list = <fun>\n",
      "val equal_l : 'a list -> 'a list -> bool = <fun>\n",
      "val map_l : ('a -> 'b) -> 'a list -> 'b list = <fun>\n",
      "val filter_l : ('a -> bool) -> 'a list -> 'a list = <fun>\n",
      "val for_all_l : ('a -> bool) -> 'a list -> bool = <fun>\n",
      "val exists_l : ('a -> bool) -> 'a list -> bool = <fun>\n",
      "val combine_pairs_l : 'a list -> 'b list -> ('a * 'b) list = <fun>\n",
      "val split_pairs_l : ('a * 'b) list -> 'a list * 'b list = <fun>\n",
      "val split_l : 'a list -> 'a list * 'a list = <fun>\n",
      "val fusion_l : 'a list -> 'a list -> 'a list = <fun>\n",
      "val sort_l : 'a list -> 'a list = <fun>\n",
      "val partition_l : 'a list -> 'a -> 'a list * 'a list = <fun>\n",
      "val quicksort_l : 'a list -> 'a list = <fun>\n",
      "val insert : 'a -> 'a list -> 'a list = <fun>\n",
      "val insert_sort : 'a list -> 'a list = <fun>\n",
      "val add_l : 'a -> 'a list list -> 'a list list = <fun>\n",
      "val parties_l : 'a list -> 'a list list = <fun>\n",
      "val array_of_list : int list -> int array = <fun>\n",
      "val array_to_list : 'a array -> 'a list = <fun>\n",
      "type 'a l2c = { elem : int; mutable prev : 'a l2c; mutable next : 'a l2c; }\n",
      "val create_l2c : int -> 'a l2c = <fun>\n",
      "val add_l2c : 'a l2c -> int -> unit = <fun>\n",
      "val suppr_l2c : 'a l2c -> unit = <fun>\n",
      "val mem_l2c : int -> 'a l2c -> bool = <fun>\n",
      "val length_l2c : 'a l2c -> int = <fun>\n",
      "val print_l2c : 'a l2c -> unit = <fun>\n",
      "val fusion_l2c : 'a l2c -> 'a l2c -> unit = <fun>\n"
     ]
    }
   ],
   "source": [
    "#use \"list.ml\""
   ]
  },
  {
   "cell_type": "code",
   "execution_count": 2,
   "id": "641128ef-9b7f-4b40-bf2b-7d57bd4c91be",
   "metadata": {},
   "outputs": [
    {
     "data": {
      "text/plain": [
       "val l1 : int list = [1; 4; 8; 12; -2; 7]\n"
      ]
     },
     "execution_count": 2,
     "metadata": {},
     "output_type": "execute_result"
    }
   ],
   "source": [
    "let l1 = [1;4;8;12;-2;7];;"
   ]
  },
  {
   "cell_type": "code",
   "execution_count": 3,
   "id": "75ae0363-e241-4c2d-ae49-bb1b0a90684c",
   "metadata": {},
   "outputs": [
    {
     "data": {
      "text/plain": [
       "val l2 : int list = [4; 8; 12; 7; 9; 10]\n"
      ]
     },
     "execution_count": 3,
     "metadata": {},
     "output_type": "execute_result"
    }
   ],
   "source": [
    "let l2 = [4;8;12;7;9;10];;"
   ]
  },
  {
   "cell_type": "code",
   "execution_count": 4,
   "id": "ffd6faa2-b178-4393-935e-d2519f794ad6",
   "metadata": {},
   "outputs": [
    {
     "data": {
      "text/plain": [
       "- : int = 1\n"
      ]
     },
     "execution_count": 4,
     "metadata": {},
     "output_type": "execute_result"
    }
   ],
   "source": [
    "fst_l l1;;"
   ]
  },
  {
   "cell_type": "code",
   "execution_count": 5,
   "id": "50c88b18-067c-4f53-be9a-bda5d8694d77",
   "metadata": {},
   "outputs": [
    {
     "data": {
      "text/plain": [
       "- : int = 7\n"
      ]
     },
     "execution_count": 5,
     "metadata": {},
     "output_type": "execute_result"
    }
   ],
   "source": [
    "lst_l l1;;"
   ]
  },
  {
   "cell_type": "code",
   "execution_count": 6,
   "id": "615c93e8-6360-436b-8cd3-fbcaac4eda95",
   "metadata": {},
   "outputs": [
    {
     "data": {
      "text/plain": [
       "- : int = 12\n"
      ]
     },
     "execution_count": 6,
     "metadata": {},
     "output_type": "execute_result"
    }
   ],
   "source": [
    "nth_l 3 l1;;"
   ]
  },
  {
   "cell_type": "code",
   "execution_count": 7,
   "id": "0d3fd096-0163-40ce-bf5c-01c5d997dc75",
   "metadata": {},
   "outputs": [
    {
     "data": {
      "text/plain": [
       "- : int = 6\n"
      ]
     },
     "execution_count": 7,
     "metadata": {},
     "output_type": "execute_result"
    }
   ],
   "source": [
    "length_l l1;;"
   ]
  },
  {
   "cell_type": "code",
   "execution_count": 8,
   "id": "62211726-a918-4cdb-a7a3-ad7b5272f165",
   "metadata": {},
   "outputs": [
    {
     "data": {
      "text/plain": [
       "- : int = 30\n"
      ]
     },
     "execution_count": 8,
     "metadata": {},
     "output_type": "execute_result"
    }
   ],
   "source": [
    "sum_l l1;;"
   ]
  },
  {
   "cell_type": "code",
   "execution_count": 9,
   "id": "55d4d01d-a4f4-45d9-a487-e95ad2d9bdcf",
   "metadata": {},
   "outputs": [
    {
     "data": {
      "text/plain": [
       "- : bool = false\n"
      ]
     },
     "execution_count": 9,
     "metadata": {},
     "output_type": "execute_result"
    },
    {
     "data": {
      "text/plain": [
       "- : bool = true\n"
      ]
     },
     "execution_count": 9,
     "metadata": {},
     "output_type": "execute_result"
    }
   ],
   "source": [
    "mem_l 10 l1;;\n",
    "mem_l 8 l1;;"
   ]
  },
  {
   "cell_type": "code",
   "execution_count": 10,
   "id": "08b94601-8cc4-4b15-8a7c-53b5589ac743",
   "metadata": {},
   "outputs": [
    {
     "data": {
      "text/plain": [
       "- : int list = [1; 4; 8; 12; -2; 7; 4; 8; 12; 7; 9; 10]\n"
      ]
     },
     "execution_count": 10,
     "metadata": {},
     "output_type": "execute_result"
    }
   ],
   "source": [
    "append_l l1 l2;;"
   ]
  },
  {
   "cell_type": "code",
   "execution_count": 11,
   "id": "0301de09-28a3-4afe-af03-400023b99d72",
   "metadata": {},
   "outputs": [
    {
     "data": {
      "text/plain": [
       "- : int list = [7; -2; 12; 8; 4; 1; 4; 8; 12; 7; 9; 10]\n"
      ]
     },
     "execution_count": 11,
     "metadata": {},
     "output_type": "execute_result"
    },
    {
     "data": {
      "text/plain": [
       "- : int list = [7; -2; 12; 8; 4; 1]\n"
      ]
     },
     "execution_count": 11,
     "metadata": {},
     "output_type": "execute_result"
    }
   ],
   "source": [
    "rev_append_l l1 l2;;\n",
    "rev_append_l l1 [];;"
   ]
  },
  {
   "cell_type": "code",
   "execution_count": 12,
   "id": "a7afab4e-7990-430e-b43d-ba09d59ee2a2",
   "metadata": {},
   "outputs": [
    {
     "data": {
      "text/plain": [
       "- : int = -2\n"
      ]
     },
     "execution_count": 12,
     "metadata": {},
     "output_type": "execute_result"
    },
    {
     "data": {
      "text/plain": [
       "- : int = 12\n"
      ]
     },
     "execution_count": 12,
     "metadata": {},
     "output_type": "execute_result"
    }
   ],
   "source": [
    "mini_l l1;;\n",
    "maxi_l l1;;"
   ]
  },
  {
   "cell_type": "code",
   "execution_count": 13,
   "id": "2ebae18a-3c77-4c8c-9940-1a09feb2b81e",
   "metadata": {},
   "outputs": [
    {
     "data": {
      "text/plain": [
       "val l3 : int list = [1; 2; 3; 4; 5; 7; 9; 10]\n"
      ]
     },
     "execution_count": 13,
     "metadata": {},
     "output_type": "execute_result"
    },
    {
     "data": {
      "text/plain": [
       "val l4 : int list = [10; 9; 8; 7; 5; 4; 3; 2; 1]\n"
      ]
     },
     "execution_count": 13,
     "metadata": {},
     "output_type": "execute_result"
    }
   ],
   "source": [
    "let l3 = [1;2;3;4;5;7;9;10];;\n",
    "let l4 = [10;9;8;7;5;4;3;2;1];;"
   ]
  },
  {
   "cell_type": "code",
   "execution_count": 14,
   "id": "7455ef71-4808-403d-b57f-26852bc3b98a",
   "metadata": {},
   "outputs": [
    {
     "data": {
      "text/plain": [
       "- : bool = true\n"
      ]
     },
     "execution_count": 14,
     "metadata": {},
     "output_type": "execute_result"
    },
    {
     "data": {
      "text/plain": [
       "- : bool = false\n"
      ]
     },
     "execution_count": 14,
     "metadata": {},
     "output_type": "execute_result"
    }
   ],
   "source": [
    "increase_l l3;;\n",
    "decrease_l l3;;"
   ]
  },
  {
   "cell_type": "code",
   "execution_count": 15,
   "id": "939833cf-758d-4774-ae84-f0c391ab1018",
   "metadata": {},
   "outputs": [
    {
     "data": {
      "text/plain": [
       "- : bool = false\n"
      ]
     },
     "execution_count": 15,
     "metadata": {},
     "output_type": "execute_result"
    },
    {
     "data": {
      "text/plain": [
       "- : bool = true\n"
      ]
     },
     "execution_count": 15,
     "metadata": {},
     "output_type": "execute_result"
    }
   ],
   "source": [
    "increase_l l4;;\n",
    "decrease_l l4;;"
   ]
  },
  {
   "cell_type": "code",
   "execution_count": 16,
   "id": "e290050a-767f-490e-9958-3fd08ea09fdc",
   "metadata": {},
   "outputs": [
    {
     "data": {
      "text/plain": [
       "val l5 : int list = [1; 3; 7; 3; 10]\n"
      ]
     },
     "execution_count": 16,
     "metadata": {},
     "output_type": "execute_result"
    }
   ],
   "source": [
    "let l5 = [1;3;7;3;10];;"
   ]
  },
  {
   "cell_type": "code",
   "execution_count": 17,
   "id": "b4c02c15-62a9-4c2f-a27d-da4b734d2ad7",
   "metadata": {},
   "outputs": [
    {
     "data": {
      "text/plain": [
       "- : bool = true\n"
      ]
     },
     "execution_count": 17,
     "metadata": {},
     "output_type": "execute_result"
    }
   ],
   "source": [
    "doublon_l l5;;"
   ]
  },
  {
   "cell_type": "code",
   "execution_count": 18,
   "id": "1f42964f-487b-43d9-80d5-92e08c36494e",
   "metadata": {},
   "outputs": [
    {
     "data": {
      "text/plain": [
       "- : int list = [1; 7; 3; 10]\n"
      ]
     },
     "execution_count": 18,
     "metadata": {},
     "output_type": "execute_result"
    }
   ],
   "source": [
    "doublon2_l l5;;"
   ]
  },
  {
   "cell_type": "code",
   "execution_count": 19,
   "id": "e9c5210d-cd56-479a-8bd0-200408de4dd8",
   "metadata": {},
   "outputs": [
    {
     "data": {
      "text/plain": [
       "val l6 : int list = [3; 7; 8; 10]\n"
      ]
     },
     "execution_count": 19,
     "metadata": {},
     "output_type": "execute_result"
    },
    {
     "data": {
      "text/plain": [
       "val l7 : int list = [3; 7; 8; 10]\n"
      ]
     },
     "execution_count": 19,
     "metadata": {},
     "output_type": "execute_result"
    }
   ],
   "source": [
    "let l6 = [3;7;8;10];;\n",
    "let l7 = [3;7;8;10];;"
   ]
  },
  {
   "cell_type": "code",
   "execution_count": 20,
   "id": "9a812824-6336-4a8f-ba22-149f152aca9d",
   "metadata": {},
   "outputs": [
    {
     "data": {
      "text/plain": [
       "- : bool = true\n"
      ]
     },
     "execution_count": 20,
     "metadata": {},
     "output_type": "execute_result"
    }
   ],
   "source": [
    "equal_l l6 l7;;"
   ]
  },
  {
   "cell_type": "code",
   "execution_count": 21,
   "id": "ee4e523a-b164-4919-b65e-b3e3507879b2",
   "metadata": {},
   "outputs": [
    {
     "data": {
      "text/plain": [
       "- : int list = [6; 14; 16; 20]\n"
      ]
     },
     "execution_count": 21,
     "metadata": {},
     "output_type": "execute_result"
    }
   ],
   "source": [
    "map_l (fun x -> 2*x) l6;;"
   ]
  },
  {
   "cell_type": "code",
   "execution_count": 22,
   "id": "f615c5cd-a8f3-4ddd-b1c0-dbe59a9ed200",
   "metadata": {},
   "outputs": [
    {
     "data": {
      "text/plain": [
       "- : int list = [8; 10]\n"
      ]
     },
     "execution_count": 22,
     "metadata": {},
     "output_type": "execute_result"
    }
   ],
   "source": [
    "filter_l (fun x -> x> 7) l6;;"
   ]
  },
  {
   "cell_type": "code",
   "execution_count": 23,
   "id": "4fc2f9f4-18d6-40f3-8c7c-509e66ca5d91",
   "metadata": {},
   "outputs": [
    {
     "data": {
      "text/plain": [
       "- : bool = false\n"
      ]
     },
     "execution_count": 23,
     "metadata": {},
     "output_type": "execute_result"
    }
   ],
   "source": [
    "for_all_l (fun x -> x>7) l6;;"
   ]
  },
  {
   "cell_type": "code",
   "execution_count": 24,
   "id": "ddce0bb0-b590-497a-911b-0336168fb402",
   "metadata": {},
   "outputs": [
    {
     "data": {
      "text/plain": [
       "- : bool = true\n"
      ]
     },
     "execution_count": 24,
     "metadata": {},
     "output_type": "execute_result"
    }
   ],
   "source": [
    "exists_l (fun x -> x>7) l6;;"
   ]
  },
  {
   "cell_type": "code",
   "execution_count": 25,
   "id": "3aeb93c5-1a04-489d-a601-b12fe9b6fcb9",
   "metadata": {},
   "outputs": [
    {
     "data": {
      "text/plain": [
       "- : (int * int) list = [(3, 3); (7, 7); (8, 8); (10, 10)]\n"
      ]
     },
     "execution_count": 25,
     "metadata": {},
     "output_type": "execute_result"
    }
   ],
   "source": [
    "combine_pairs_l l6 l7;;"
   ]
  },
  {
   "cell_type": "code",
   "execution_count": 26,
   "id": "b23c798f-8516-44a0-b84b-a83d75861646",
   "metadata": {},
   "outputs": [
    {
     "data": {
      "text/plain": [
       "val l8 : (int * int) list = [(1, 5); (6, 8); (3, 1)]\n"
      ]
     },
     "execution_count": 26,
     "metadata": {},
     "output_type": "execute_result"
    }
   ],
   "source": [
    "let l8 = [(1,5);(6,8);(3,1)];;"
   ]
  },
  {
   "cell_type": "code",
   "execution_count": 27,
   "id": "e31f4b3b-e09f-4a69-a6a8-14d0e90ae659",
   "metadata": {},
   "outputs": [
    {
     "data": {
      "text/plain": [
       "- : int list * int list = ([1; 6; 3], [5; 8; 1])\n"
      ]
     },
     "execution_count": 27,
     "metadata": {},
     "output_type": "execute_result"
    }
   ],
   "source": [
    "split_pairs_l l8;;"
   ]
  },
  {
   "cell_type": "code",
   "execution_count": 28,
   "id": "1d5df47f-e44f-456a-afbe-c8ca7cd1366b",
   "metadata": {},
   "outputs": [
    {
     "data": {
      "text/plain": [
       "val l9 : int list = [1; 5; 8; 2; 10; 4]\n"
      ]
     },
     "execution_count": 28,
     "metadata": {},
     "output_type": "execute_result"
    }
   ],
   "source": [
    "let l9 = [1;5;8;2;10;4];;"
   ]
  },
  {
   "cell_type": "code",
   "execution_count": 29,
   "id": "522aa884-860e-482a-b735-14076c6fb49f",
   "metadata": {},
   "outputs": [
    {
     "data": {
      "text/plain": [
       "- : int list * int list = ([1; 8; 10], [5; 2; 4])\n"
      ]
     },
     "execution_count": 29,
     "metadata": {},
     "output_type": "execute_result"
    }
   ],
   "source": [
    "split_l l9;;"
   ]
  },
  {
   "cell_type": "code",
   "execution_count": 30,
   "id": "5c7cea42-d2fd-46d4-a383-c1caef71931e",
   "metadata": {},
   "outputs": [
    {
     "data": {
      "text/plain": [
       "val l10 : int list = [1; 5; 8; 9; 10; 12; 13]\n"
      ]
     },
     "execution_count": 30,
     "metadata": {},
     "output_type": "execute_result"
    },
    {
     "data": {
      "text/plain": [
       "val l11 : int list = [4; 6; 9; 10; 11]\n"
      ]
     },
     "execution_count": 30,
     "metadata": {},
     "output_type": "execute_result"
    }
   ],
   "source": [
    "let l10 = [1;5;8;9;10;12;13];;\n",
    "let l11 = [4;6;9;10;11];;"
   ]
  },
  {
   "cell_type": "code",
   "execution_count": 31,
   "id": "86ec826c-1984-4af4-aa55-47534134fbd4",
   "metadata": {},
   "outputs": [
    {
     "data": {
      "text/plain": [
       "- : int list = [1; 4; 5; 6; 8; 9; 9; 10; 10; 11; 12; 13]\n"
      ]
     },
     "execution_count": 31,
     "metadata": {},
     "output_type": "execute_result"
    }
   ],
   "source": [
    "fusion_l l10 l11;;"
   ]
  },
  {
   "cell_type": "code",
   "execution_count": 32,
   "id": "2b737c42-7489-4e22-86aa-e04ace143343",
   "metadata": {},
   "outputs": [
    {
     "data": {
      "text/plain": [
       "- : int list = [1; 2; 4; 5; 8; 10]\n"
      ]
     },
     "execution_count": 32,
     "metadata": {},
     "output_type": "execute_result"
    }
   ],
   "source": [
    "sort_l l9;;"
   ]
  },
  {
   "cell_type": "code",
   "execution_count": 33,
   "id": "87517fa8-06c7-4405-b57f-c8cd09bf4270",
   "metadata": {},
   "outputs": [
    {
     "data": {
      "text/plain": [
       "- : int list * int list = ([1; 2; 4], [5; 8; 10])\n"
      ]
     },
     "execution_count": 33,
     "metadata": {},
     "output_type": "execute_result"
    }
   ],
   "source": [
    "partition_l l9 5;;"
   ]
  },
  {
   "cell_type": "code",
   "execution_count": 34,
   "id": "e398b89b-8863-44ee-8463-1329eaafa550",
   "metadata": {},
   "outputs": [
    {
     "data": {
      "text/plain": [
       "- : int list = [1; 2; 4; 5; 8; 10]\n"
      ]
     },
     "execution_count": 34,
     "metadata": {},
     "output_type": "execute_result"
    }
   ],
   "source": [
    "quicksort_l l9;;"
   ]
  },
  {
   "cell_type": "code",
   "execution_count": 35,
   "id": "49413426-f749-4b60-8f08-d3b54df66a1f",
   "metadata": {},
   "outputs": [
    {
     "data": {
      "text/plain": [
       "- : int list = [4; 6; 7; 9; 10; 11]\n"
      ]
     },
     "execution_count": 35,
     "metadata": {},
     "output_type": "execute_result"
    }
   ],
   "source": [
    "insert 7 l11;;"
   ]
  },
  {
   "cell_type": "code",
   "execution_count": 36,
   "id": "c87dd38e-d9a1-44f0-bfa2-eb1638a1a2d5",
   "metadata": {},
   "outputs": [
    {
     "data": {
      "text/plain": [
       "- : int list = [1; 2; 4; 5; 8; 10]\n"
      ]
     },
     "execution_count": 36,
     "metadata": {},
     "output_type": "execute_result"
    }
   ],
   "source": [
    "insert_sort l9;;"
   ]
  },
  {
   "cell_type": "code",
   "execution_count": 37,
   "id": "78ab6291-3e2b-40f9-ba58-47b26d97254c",
   "metadata": {},
   "outputs": [
    {
     "data": {
      "text/plain": [
       "val l12 : int list list = [[1; 5; 8; 10]; [1; 7; 9; 10; 11]]\n"
      ]
     },
     "execution_count": 37,
     "metadata": {},
     "output_type": "execute_result"
    }
   ],
   "source": [
    "let l12 = [[1;5;8;10];[1;7;9;10;11]];;"
   ]
  },
  {
   "cell_type": "code",
   "execution_count": 38,
   "id": "8775adbd-5f18-425e-baff-191a5a10c590",
   "metadata": {},
   "outputs": [
    {
     "data": {
      "text/plain": [
       "- : int list list = [[4; 1; 5; 8; 10]; [4; 1; 7; 9; 10; 11]]\n"
      ]
     },
     "execution_count": 38,
     "metadata": {},
     "output_type": "execute_result"
    }
   ],
   "source": [
    "add_l 4 l12;;"
   ]
  },
  {
   "cell_type": "code",
   "execution_count": 39,
   "id": "bf074a89-76af-471e-bbeb-0453cd0333cb",
   "metadata": {},
   "outputs": [
    {
     "data": {
      "text/plain": [
       "val l13 : int list = [1; 5; 8; 9]\n"
      ]
     },
     "execution_count": 39,
     "metadata": {},
     "output_type": "execute_result"
    }
   ],
   "source": [
    "let l13 = [1;5;8;9];;"
   ]
  },
  {
   "cell_type": "code",
   "execution_count": 40,
   "id": "c6c2fe32-5fa1-4023-806c-2bc2fb7fbf5c",
   "metadata": {},
   "outputs": [
    {
     "data": {
      "text/plain": [
       "- : int list list =\n",
       "[[]; [9]; [8]; [8; 9]; [5]; [5; 9]; [5; 8]; [5; 8; 9]; [1]; [1; 9]; [1; 8];\n",
       " [1; 8; 9]; [1; 5]; [1; 5; 9]; [1; 5; 8]; [1; 5; 8; 9]]\n"
      ]
     },
     "execution_count": 40,
     "metadata": {},
     "output_type": "execute_result"
    }
   ],
   "source": [
    "parties_l l13;;"
   ]
  },
  {
   "cell_type": "code",
   "execution_count": 41,
   "id": "db0f7e90-0c4c-4cd7-9573-24451e11e12b",
   "metadata": {},
   "outputs": [
    {
     "data": {
      "text/plain": [
       "- : int array = [|1; 5; 8; 9|]\n"
      ]
     },
     "execution_count": 41,
     "metadata": {},
     "output_type": "execute_result"
    }
   ],
   "source": [
    "array_of_list l13;;"
   ]
  },
  {
   "cell_type": "code",
   "execution_count": 42,
   "id": "4a3cc7d2-934f-44fe-b900-d5b2e48e2c84",
   "metadata": {},
   "outputs": [
    {
     "data": {
      "text/plain": [
       "val t : int array = [|1; 7; 9; 10; 4|]\n"
      ]
     },
     "execution_count": 42,
     "metadata": {},
     "output_type": "execute_result"
    }
   ],
   "source": [
    "let t = [|1;7;9;10;4|];;"
   ]
  },
  {
   "cell_type": "code",
   "execution_count": 43,
   "id": "0ebd9928-aa0a-46de-95a5-6be69c6b3df6",
   "metadata": {},
   "outputs": [
    {
     "data": {
      "text/plain": [
       "- : int list = [1; 7; 9; 10; 4]\n"
      ]
     },
     "execution_count": 43,
     "metadata": {},
     "output_type": "execute_result"
    }
   ],
   "source": [
    "array_to_list t;;"
   ]
  },
  {
   "cell_type": "code",
   "execution_count": 44,
   "id": "d548baf2-4283-43ed-b97a-db89fc83d5a1",
   "metadata": {},
   "outputs": [
    {
     "data": {
      "text/plain": [
       "- : '_weak1 l2c = {elem = 2; prev = <cycle>; next = <cycle>}\n"
      ]
     },
     "execution_count": 44,
     "metadata": {},
     "output_type": "execute_result"
    }
   ],
   "source": [
    "create_l2c 2;;"
   ]
  },
  {
   "cell_type": "code",
   "execution_count": 48,
   "id": "a95e9e83-77c4-4dba-b328-41fe1df42c2e",
   "metadata": {},
   "outputs": [
    {
     "data": {
      "text/plain": [
       "val l14 : '_weak4 l2c = {elem = 2; prev = <cycle>; next = <cycle>}\n"
      ]
     },
     "execution_count": 48,
     "metadata": {},
     "output_type": "execute_result"
    }
   ],
   "source": [
    "let l14 = create_l2c 2;;"
   ]
  },
  {
   "cell_type": "code",
   "execution_count": 49,
   "id": "09a41791-cf00-4b48-9fe1-44871bc8bf06",
   "metadata": {},
   "outputs": [
    {
     "data": {
      "text/plain": [
       "- : unit = ()\n"
      ]
     },
     "execution_count": 49,
     "metadata": {},
     "output_type": "execute_result"
    }
   ],
   "source": [
    "add_l2c l14 3;;"
   ]
  },
  {
   "cell_type": "code",
   "execution_count": 50,
   "id": "d5456f89-08e2-47cf-8580-36a8b95accd0",
   "metadata": {},
   "outputs": [
    {
     "data": {
      "text/plain": [
       "- : '_weak5 l2c =\n",
       "{elem = 2; prev = {elem = 3; prev = <cycle>; next = <cycle>};\n",
       " next = {elem = 3; prev = <cycle>; next = <cycle>}}\n"
      ]
     },
     "execution_count": 50,
     "metadata": {},
     "output_type": "execute_result"
    }
   ],
   "source": [
    "l14;;"
   ]
  },
  {
   "cell_type": "code",
   "execution_count": 51,
   "id": "7896d2b1-2507-47fc-b4cb-17845b385ac6",
   "metadata": {},
   "outputs": [
    {
     "data": {
      "text/plain": [
       "- : unit = ()\n"
      ]
     },
     "execution_count": 51,
     "metadata": {},
     "output_type": "execute_result"
    }
   ],
   "source": [
    "suppr_l2c l14;;"
   ]
  },
  {
   "cell_type": "code",
   "execution_count": 53,
   "id": "a7adbd1c-50ad-44bb-abad-1732247df81d",
   "metadata": {},
   "outputs": [
    {
     "data": {
      "text/plain": [
       "val l15 : '_weak7 l2c = {elem = 0; prev = <cycle>; next = <cycle>}\n"
      ]
     },
     "execution_count": 53,
     "metadata": {},
     "output_type": "execute_result"
    }
   ],
   "source": [
    "let l15 = create_l2c 0;;"
   ]
  },
  {
   "cell_type": "code",
   "execution_count": 54,
   "id": "39fedefd-e877-44f7-aa21-677667250cb4",
   "metadata": {},
   "outputs": [
    {
     "data": {
      "text/plain": [
       "- : unit = ()\n"
      ]
     },
     "execution_count": 54,
     "metadata": {},
     "output_type": "execute_result"
    }
   ],
   "source": [
    "add_l2c l15 1;\n",
    "add_l2c l15 2;\n",
    "add_l2c l15 3;\n",
    "add_l2c l15 4;\n",
    "add_l2c l15 5;\n",
    "add_l2c l15 6;;"
   ]
  },
  {
   "cell_type": "code",
   "execution_count": 60,
   "id": "a3696656-5886-4eee-ba5f-0007199e7fc0",
   "metadata": {},
   "outputs": [
    {
     "data": {
      "text/plain": [
       "- : '_weak8 l2c =\n",
       "{elem = 0;\n",
       " prev =\n",
       "  {elem = 1;\n",
       "   prev =\n",
       "    {elem = 2;\n",
       "     prev =\n",
       "      {elem = 3;\n",
       "       prev =\n",
       "        {elem = 4;\n",
       "         prev =\n",
       "          {elem = 5; prev = {elem = 6; prev = <cycle>; next = <cycle>};\n",
       "           next = <cycle>};\n",
       "         next = <cycle>};\n",
       "       next = <cycle>};\n",
       "     next = <cycle>};\n",
       "   next = <cycle>};\n",
       " next =\n",
       "  {elem = 6; prev = <cycle>;\n",
       "   next =\n",
       "    {elem = 5; prev = <cycle>;\n",
       "     next =\n",
       "      {elem = 4; prev = <cycle>;\n",
       "       next =\n",
       "        {elem = 3; prev = <cycle>;\n",
       "         next =\n",
       "          {elem = 2; prev = <cycle>;\n",
       "           next = {elem = 1; prev = <cycle>; next = <cycle>}}}}}}}\n"
      ]
     },
     "execution_count": 60,
     "metadata": {},
     "output_type": "execute_result"
    }
   ],
   "source": [
    "l15;;"
   ]
  },
  {
   "cell_type": "code",
   "execution_count": 64,
   "id": "5eadfaa1-243b-4cae-8955-ccfdc9ce9d77",
   "metadata": {},
   "outputs": [
    {
     "data": {
      "text/plain": [
       "- : bool = true\n"
      ]
     },
     "execution_count": 64,
     "metadata": {},
     "output_type": "execute_result"
    }
   ],
   "source": [
    "mem_l2c 3 l15;;"
   ]
  },
  {
   "cell_type": "code",
   "execution_count": 65,
   "id": "746899b2-3841-49d0-a226-74670fcb94de",
   "metadata": {},
   "outputs": [
    {
     "data": {
      "text/plain": [
       "- : bool = false\n"
      ]
     },
     "execution_count": 65,
     "metadata": {},
     "output_type": "execute_result"
    }
   ],
   "source": [
    "mem_l2c 11 l15;;"
   ]
  },
  {
   "cell_type": "code",
   "execution_count": 66,
   "id": "7ed49596-f4ac-4801-8368-43a8d2c9963e",
   "metadata": {},
   "outputs": [
    {
     "name": "stdout",
     "output_type": "stream",
     "text": [
      "6\n",
      "5\n",
      "4\n",
      "3\n",
      "2\n",
      "1\n",
      "0\n"
     ]
    },
    {
     "data": {
      "text/plain": [
       "- : unit = ()\n"
      ]
     },
     "execution_count": 66,
     "metadata": {},
     "output_type": "execute_result"
    }
   ],
   "source": [
    "print_l2c l15;;"
   ]
  },
  {
   "cell_type": "code",
   "execution_count": 70,
   "id": "559548ce-a3f1-44cc-bfe4-f715ab5052a0",
   "metadata": {},
   "outputs": [
    {
     "data": {
      "text/plain": [
       "val l16 : '_weak10 l2c = {elem = 11; prev = <cycle>; next = <cycle>}\n"
      ]
     },
     "execution_count": 70,
     "metadata": {},
     "output_type": "execute_result"
    }
   ],
   "source": [
    "let l16 = create_l2c 11"
   ]
  },
  {
   "cell_type": "code",
   "execution_count": 71,
   "id": "406a63a1-f1b7-4895-8393-8f723a444cbc",
   "metadata": {},
   "outputs": [
    {
     "data": {
      "text/plain": [
       "- : unit = ()\n"
      ]
     },
     "execution_count": 71,
     "metadata": {},
     "output_type": "execute_result"
    }
   ],
   "source": [
    "fusion_l2c l15 l16;;"
   ]
  },
  {
   "cell_type": "code",
   "execution_count": null,
   "id": "1695895f-4f6d-48a4-aa8b-02ca3107370b",
   "metadata": {},
   "outputs": [],
   "source": []
  }
 ],
 "metadata": {
  "kernelspec": {
   "display_name": "OCaml default",
   "language": "OCaml",
   "name": "ocaml-jupyter"
  },
  "language_info": {
   "codemirror_mode": "text/x-ocaml",
   "file_extension": ".ml",
   "mimetype": "text/x-ocaml",
   "name": "OCaml",
   "nbconverter_exporter": null,
   "pygments_lexer": "OCaml",
   "version": "4.08.1"
  }
 },
 "nbformat": 4,
 "nbformat_minor": 5
}
