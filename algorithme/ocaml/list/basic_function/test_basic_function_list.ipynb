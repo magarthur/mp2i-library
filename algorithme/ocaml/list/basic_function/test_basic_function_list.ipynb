{
 "cells": [
  {
   "cell_type": "code",
   "execution_count": 18,
   "id": "c1baa88b-f2a2-4bf1-b677-46613a0be62b",
   "metadata": {},
   "outputs": [
    {
     "name": "stdout",
     "output_type": "stream",
     "text": [
      "val fst_l : 'a list -> 'a = <fun>\n",
      "val lst_l : 'a list -> 'a = <fun>\n",
      "val nth_l : int -> 'a list -> 'a = <fun>\n",
      "val length_l : 'a list -> int = <fun>\n",
      "val sum_l : int list -> int = <fun>\n",
      "val mem_l : 'a -> 'a list -> bool = <fun>\n",
      "val append_l : 'a list -> 'a list -> 'a list = <fun>\n",
      "val rev_append_l : 'a list -> 'a list -> 'a list = <fun>\n",
      "val mini_l : int list -> int = <fun>\n",
      "val maxi_l : int list -> int = <fun>\n",
      "val increase_l : 'a list -> bool = <fun>\n",
      "val decrease_l : 'a list -> bool = <fun>\n",
      "val doublon_l : 'a list -> bool = <fun>\n",
      "val doublon2_l : 'a list -> 'a list = <fun>\n",
      "val equal_l : 'a list -> 'a list -> bool = <fun>\n"
     ]
    }
   ],
   "source": [
    "#use \"basic_function_list.ml\";;"
   ]
  },
  {
   "cell_type": "code",
   "execution_count": 2,
   "id": "38737f14-34ca-482e-8919-0c0f75027dd1",
   "metadata": {},
   "outputs": [
    {
     "data": {
      "text/plain": [
       "val l1 : int list = [2; 5; -2; 8; -4; 10; 3; 5; 4; 6; 23; 14]\n"
      ]
     },
     "execution_count": 2,
     "metadata": {},
     "output_type": "execute_result"
    }
   ],
   "source": [
    "let l1 = [2;5;-2;8;-4;10;3;5;4;6;23;14];;"
   ]
  },
  {
   "cell_type": "code",
   "execution_count": 3,
   "id": "95028cfa-e78d-43de-92fc-a875d04404a0",
   "metadata": {},
   "outputs": [
    {
     "data": {
      "text/plain": [
       "- : int = 2\n"
      ]
     },
     "execution_count": 3,
     "metadata": {},
     "output_type": "execute_result"
    }
   ],
   "source": [
    "fst_l l1;;"
   ]
  },
  {
   "cell_type": "code",
   "execution_count": 4,
   "id": "aa62284a-5484-4d21-85f0-079078d8c0c9",
   "metadata": {},
   "outputs": [
    {
     "data": {
      "text/plain": [
       "- : int = 14\n"
      ]
     },
     "execution_count": 4,
     "metadata": {},
     "output_type": "execute_result"
    }
   ],
   "source": [
    "lst_l l1;;"
   ]
  },
  {
   "cell_type": "code",
   "execution_count": 5,
   "id": "b6e58ed5-f0ca-48f6-ab9a-2079994cab58",
   "metadata": {},
   "outputs": [
    {
     "data": {
      "text/plain": [
       "- : int = 10\n"
      ]
     },
     "execution_count": 5,
     "metadata": {},
     "output_type": "execute_result"
    }
   ],
   "source": [
    "nth_l 5 l1;;"
   ]
  },
  {
   "cell_type": "code",
   "execution_count": 6,
   "id": "d1234e3d-43d0-4811-bfa9-0f7898a1a758",
   "metadata": {},
   "outputs": [
    {
     "data": {
      "text/plain": [
       "- : int = 12\n"
      ]
     },
     "execution_count": 6,
     "metadata": {},
     "output_type": "execute_result"
    }
   ],
   "source": [
    "length_l l1;;"
   ]
  },
  {
   "cell_type": "code",
   "execution_count": 7,
   "id": "b0b86daf-ef9c-4797-88f8-4f7952b37f11",
   "metadata": {},
   "outputs": [
    {
     "data": {
      "text/plain": [
       "- : int = 74\n"
      ]
     },
     "execution_count": 7,
     "metadata": {},
     "output_type": "execute_result"
    }
   ],
   "source": [
    "sum_l l1;;"
   ]
  },
  {
   "cell_type": "code",
   "execution_count": 8,
   "id": "613c62d8-bf05-4611-b719-87814c27978f",
   "metadata": {},
   "outputs": [
    {
     "data": {
      "text/plain": [
       "- : bool = true\n"
      ]
     },
     "execution_count": 8,
     "metadata": {},
     "output_type": "execute_result"
    },
    {
     "data": {
      "text/plain": [
       "- : bool = false\n"
      ]
     },
     "execution_count": 8,
     "metadata": {},
     "output_type": "execute_result"
    }
   ],
   "source": [
    "mem_l 6 l1;;\n",
    "mem_l 9 l1;;"
   ]
  },
  {
   "cell_type": "code",
   "execution_count": 9,
   "id": "79b5ab64-a30c-418f-b8ff-327a20fae937",
   "metadata": {},
   "outputs": [
    {
     "data": {
      "text/plain": [
       "val l2 : int list = [2; 5; -2; 8; -4; 10; 3; 5; 4; 6; 23; 14]\n"
      ]
     },
     "execution_count": 9,
     "metadata": {},
     "output_type": "execute_result"
    },
    {
     "data": {
      "text/plain": [
       "val l3 : int list = [4; 10; 22; -3; 1; 4; 9; 11; 3; 2; 8; -1]\n"
      ]
     },
     "execution_count": 9,
     "metadata": {},
     "output_type": "execute_result"
    }
   ],
   "source": [
    "let l2 = [2;5;-2;8;-4;10;3;5;4;6;23;14];;\n",
    "let l3 = [4;10;22;-3;1;4;9;11;3;2;8;-1];;"
   ]
  },
  {
   "cell_type": "code",
   "execution_count": 10,
   "id": "6af6abc3-fd77-4e33-828e-1fc801e99f00",
   "metadata": {},
   "outputs": [
    {
     "data": {
      "text/plain": [
       "- : int list =\n",
       "[2; 5; -2; 8; -4; 10; 3; 5; 4; 6; 23; 14; 4; 10; 22; -3; 1; 4; 9; 11; 3; 2;\n",
       " 8; -1]\n"
      ]
     },
     "execution_count": 10,
     "metadata": {},
     "output_type": "execute_result"
    }
   ],
   "source": [
    "append_l l2 l3;; "
   ]
  },
  {
   "cell_type": "code",
   "execution_count": 11,
   "id": "fbd1e881-3afd-4505-a8ac-5ea68a21ee30",
   "metadata": {},
   "outputs": [
    {
     "data": {
      "text/plain": [
       "- : int list =\n",
       "[14; 23; 6; 4; 5; 3; 10; -4; 8; -2; 5; 2; 4; 10; 22; -3; 1; 4; 9; 11; 3; 2;\n",
       " 8; -1]\n"
      ]
     },
     "execution_count": 11,
     "metadata": {},
     "output_type": "execute_result"
    }
   ],
   "source": [
    "rev_append_l l2 l3;;"
   ]
  },
  {
   "cell_type": "code",
   "execution_count": 13,
   "id": "91c64cca-467c-424c-a772-ffd3303530fe",
   "metadata": {},
   "outputs": [
    {
     "data": {
      "text/plain": [
       "- : int list = [14; 23; 6; 4; 5; 3; 10; -4; 8; -2; 5; 2]\n"
      ]
     },
     "execution_count": 13,
     "metadata": {},
     "output_type": "execute_result"
    }
   ],
   "source": [
    "rev_append_l l2 [];;"
   ]
  },
  {
   "cell_type": "code",
   "execution_count": 14,
   "id": "491a793b-0234-4c4b-b505-98971fad6ace",
   "metadata": {},
   "outputs": [
    {
     "data": {
      "text/plain": [
       "val l4 : int list = [2; 5; -2; 8; -4; 10; 3; 5; 4; 6; 23; 14]\n"
      ]
     },
     "execution_count": 14,
     "metadata": {},
     "output_type": "execute_result"
    }
   ],
   "source": [
    "let l4 = [2;5;-2;8;-4;10;3;5;4;6;23;14];;"
   ]
  },
  {
   "cell_type": "code",
   "execution_count": 15,
   "id": "f28641cb-9e61-4f5b-b4c4-b86eb307aa2c",
   "metadata": {},
   "outputs": [
    {
     "data": {
      "text/plain": [
       "- : int = -4\n"
      ]
     },
     "execution_count": 15,
     "metadata": {},
     "output_type": "execute_result"
    }
   ],
   "source": [
    "mini_l l4;;"
   ]
  },
  {
   "cell_type": "code",
   "execution_count": 16,
   "id": "3313d1f8-a181-4e2a-96ca-232edcff0522",
   "metadata": {},
   "outputs": [
    {
     "data": {
      "text/plain": [
       "- : int = 23\n"
      ]
     },
     "execution_count": 16,
     "metadata": {},
     "output_type": "execute_result"
    }
   ],
   "source": [
    "maxi_l l4;;"
   ]
  },
  {
   "cell_type": "code",
   "execution_count": 19,
   "id": "a458e1ee-c9ca-4d13-996c-05dd10b0ac99",
   "metadata": {},
   "outputs": [
    {
     "data": {
      "text/plain": [
       "- : bool = false\n"
      ]
     },
     "execution_count": 19,
     "metadata": {},
     "output_type": "execute_result"
    }
   ],
   "source": [
    "increase_l l4;;"
   ]
  },
  {
   "cell_type": "code",
   "execution_count": 20,
   "id": "2df4198f-3a1a-4a23-8800-8ffcff4a4c47",
   "metadata": {},
   "outputs": [
    {
     "data": {
      "text/plain": [
       "- : bool = false\n"
      ]
     },
     "execution_count": 20,
     "metadata": {},
     "output_type": "execute_result"
    }
   ],
   "source": [
    "decrease_l l4;;"
   ]
  },
  {
   "cell_type": "code",
   "execution_count": 21,
   "id": "26dcf748-dd80-4e94-9a74-2fb69964acac",
   "metadata": {},
   "outputs": [
    {
     "data": {
      "text/plain": [
       "- : bool = true\n"
      ]
     },
     "execution_count": 21,
     "metadata": {},
     "output_type": "execute_result"
    }
   ],
   "source": [
    "doublon_l l4;;"
   ]
  },
  {
   "cell_type": "code",
   "execution_count": 22,
   "id": "d3744708-9bac-462b-9b91-b62f4ab024a6",
   "metadata": {},
   "outputs": [
    {
     "data": {
      "text/plain": [
       "- : int list = [2; -2; 8; -4; 10; 3; 5; 4; 6; 23; 14]\n"
      ]
     },
     "execution_count": 22,
     "metadata": {},
     "output_type": "execute_result"
    }
   ],
   "source": [
    "doublon2_l l4;;"
   ]
  },
  {
   "cell_type": "code",
   "execution_count": 23,
   "id": "cccfe3a7-ddc9-43ed-b7c2-07ae1b79e919",
   "metadata": {},
   "outputs": [
    {
     "data": {
      "text/plain": [
       "val l5 : int list = [2; 5; -2; 8; -4; 10; 3; 5; 4; 6; 23; 14]\n"
      ]
     },
     "execution_count": 23,
     "metadata": {},
     "output_type": "execute_result"
    },
    {
     "data": {
      "text/plain": [
       "val l6 : int list = [2; 5; -2; 8; -4; 10; 3; 5; 4; 6; 23; 14]\n"
      ]
     },
     "execution_count": 23,
     "metadata": {},
     "output_type": "execute_result"
    },
    {
     "data": {
      "text/plain": [
       "val l7 : int list = [4; 10; 22; -3; 1; 4; 9; 11; 3; 2; 8; -1]\n"
      ]
     },
     "execution_count": 23,
     "metadata": {},
     "output_type": "execute_result"
    }
   ],
   "source": [
    "let l5 = [2;5;-2;8;-4;10;3;5;4;6;23;14];;\n",
    "let l6 = [2;5;-2;8;-4;10;3;5;4;6;23;14];;\n",
    "let l7 = [4;10;22;-3;1;4;9;11;3;2;8;-1];;"
   ]
  },
  {
   "cell_type": "code",
   "execution_count": 24,
   "id": "8d1a2a7b-2188-4a32-9d3c-e228a2a15bc2",
   "metadata": {},
   "outputs": [
    {
     "data": {
      "text/plain": [
       "- : bool = true\n"
      ]
     },
     "execution_count": 24,
     "metadata": {},
     "output_type": "execute_result"
    },
    {
     "data": {
      "text/plain": [
       "- : bool = false\n"
      ]
     },
     "execution_count": 24,
     "metadata": {},
     "output_type": "execute_result"
    }
   ],
   "source": [
    "equal_l l5 l6;;\n",
    "equal_l l5 l7;;"
   ]
  },
  {
   "cell_type": "code",
   "execution_count": null,
   "id": "c9646dfc-859e-428c-aaf7-0c8e28e66a1a",
   "metadata": {},
   "outputs": [],
   "source": []
  }
 ],
 "metadata": {
  "kernelspec": {
   "display_name": "OCaml default",
   "language": "OCaml",
   "name": "ocaml-jupyter"
  },
  "language_info": {
   "codemirror_mode": "text/x-ocaml",
   "file_extension": ".ml",
   "mimetype": "text/x-ocaml",
   "name": "OCaml",
   "nbconverter_exporter": null,
   "pygments_lexer": "OCaml",
   "version": "4.08.1"
  }
 },
 "nbformat": 4,
 "nbformat_minor": 5
}
