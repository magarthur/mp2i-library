{
 "cells": [
  {
   "cell_type": "code",
   "execution_count": 2,
   "id": "91c820bc-f992-4fe0-ac99-b625dd60baab",
   "metadata": {},
   "outputs": [
    {
     "name": "stdout",
     "output_type": "stream",
     "text": [
      "val length_l : 'a list -> int = <fun>\n",
      "val map_l : ('a -> 'b) -> 'a list -> 'b list = <fun>\n",
      "val filter_l : ('a -> bool) -> 'a list -> 'a list = <fun>\n",
      "val for_all_l : ('a -> bool) -> 'a list -> bool = <fun>\n",
      "val exists_l : ('a -> bool) -> 'a list -> bool = <fun>\n",
      "val combine_pairs_l : 'a list -> 'b list -> ('a * 'b) list = <fun>\n",
      "val split_pairs_l : ('a * 'b) list -> 'a list * 'b list = <fun>\n",
      "val add_l : 'a -> 'a list list -> 'a list list = <fun>\n",
      "val parties_l : 'a list -> 'a list list = <fun>\n",
      "val array_of_list : int list -> int array = <fun>\n",
      "val array_to_list : 'a array -> 'a list = <fun>\n"
     ]
    }
   ],
   "source": [
    "#use \"transform_list.ml\";;"
   ]
  },
  {
   "cell_type": "code",
   "execution_count": 3,
   "id": "94b7a243-9e11-482d-9360-e0a0c3e03a95",
   "metadata": {},
   "outputs": [
    {
     "data": {
      "text/plain": [
       "val l1 : int list = [2; 8; -3; 4; 9; 10; 11; 5; 1]\n"
      ]
     },
     "execution_count": 3,
     "metadata": {},
     "output_type": "execute_result"
    }
   ],
   "source": [
    "let l1 =[2;8;-3;4;9;10;11;5;1];;"
   ]
  },
  {
   "cell_type": "code",
   "execution_count": 4,
   "id": "0c02b750-6ce8-49cc-a649-256a3502bd87",
   "metadata": {},
   "outputs": [
    {
     "data": {
      "text/plain": [
       "- : int = 9\n"
      ]
     },
     "execution_count": 4,
     "metadata": {},
     "output_type": "execute_result"
    }
   ],
   "source": [
    "length_l l1;;"
   ]
  },
  {
   "cell_type": "code",
   "execution_count": 5,
   "id": "398c9ec5-7ae2-4b3e-a2e8-ef3faec90371",
   "metadata": {},
   "outputs": [
    {
     "data": {
      "text/plain": [
       "- : int list = [4; 16; -6; 8; 18; 20; 22; 10; 2]\n"
      ]
     },
     "execution_count": 5,
     "metadata": {},
     "output_type": "execute_result"
    }
   ],
   "source": [
    "map_l (fun x -> 2*x) l1;;"
   ]
  },
  {
   "cell_type": "code",
   "execution_count": 6,
   "id": "aaa84ae0-741f-40a3-97c7-6e41ecdb405d",
   "metadata": {},
   "outputs": [
    {
     "data": {
      "text/plain": [
       "- : int list = [2; 8; 4; 9; 10; 11; 5; 1]\n"
      ]
     },
     "execution_count": 6,
     "metadata": {},
     "output_type": "execute_result"
    }
   ],
   "source": [
    "filter_l (fun x -> x>0) l1;;"
   ]
  },
  {
   "cell_type": "code",
   "execution_count": 7,
   "id": "5be84cab-1c7a-400c-823e-911fe62bba35",
   "metadata": {},
   "outputs": [
    {
     "data": {
      "text/plain": [
       "- : bool = false\n"
      ]
     },
     "execution_count": 7,
     "metadata": {},
     "output_type": "execute_result"
    }
   ],
   "source": [
    "for_all_l (fun x -> x>0) l1;;"
   ]
  },
  {
   "cell_type": "code",
   "execution_count": 8,
   "id": "7f2a74fd-c505-4258-a89d-fdc7860591fa",
   "metadata": {},
   "outputs": [
    {
     "data": {
      "text/plain": [
       "- : bool = true\n"
      ]
     },
     "execution_count": 8,
     "metadata": {},
     "output_type": "execute_result"
    }
   ],
   "source": [
    "exists_l (fun x -> x>0) l1;;"
   ]
  },
  {
   "cell_type": "code",
   "execution_count": 9,
   "id": "b7027ecb-0d98-4f33-94c3-a842decaca1d",
   "metadata": {},
   "outputs": [
    {
     "data": {
      "text/plain": [
       "val l2 : int list = [1; 2; 3; 4; 5; 6; 7; 8; 9; 10]\n"
      ]
     },
     "execution_count": 9,
     "metadata": {},
     "output_type": "execute_result"
    },
    {
     "data": {
      "text/plain": [
       "val l3 : int list = [-1; -2; -3; -4; -5; -6; -7; -8; -9; -10]\n"
      ]
     },
     "execution_count": 9,
     "metadata": {},
     "output_type": "execute_result"
    }
   ],
   "source": [
    "let l2 = [1;2;3;4;5;6;7;8;9;10];;\n",
    "let l3 = [-1;-2;-3;-4;-5;-6;-7;-8;-9;-10];;"
   ]
  },
  {
   "cell_type": "code",
   "execution_count": 10,
   "id": "7df8e971-f055-48cd-9e27-0689b4ab34bb",
   "metadata": {},
   "outputs": [
    {
     "data": {
      "text/plain": [
       "- : (int * int) list =\n",
       "[(1, -1); (2, -2); (3, -3); (4, -4); (5, -5); (6, -6); (7, -7); (8, -8);\n",
       " (9, -9); (10, -10)]\n"
      ]
     },
     "execution_count": 10,
     "metadata": {},
     "output_type": "execute_result"
    }
   ],
   "source": [
    "combine_pairs_l l2 l3;;"
   ]
  },
  {
   "cell_type": "code",
   "execution_count": 11,
   "id": "49bc6b14-9aae-4aaa-9517-aab6e3b92752",
   "metadata": {},
   "outputs": [
    {
     "data": {
      "text/plain": [
       "val l4 : (int * int) list = [(1, -1); (2, -2); (3, -3); (4, -4); (5, -5)]\n"
      ]
     },
     "execution_count": 11,
     "metadata": {},
     "output_type": "execute_result"
    }
   ],
   "source": [
    "let l4 = [(1,-1);(2,-2);(3,-3);(4,-4);(5,-5)];;"
   ]
  },
  {
   "cell_type": "code",
   "execution_count": 12,
   "id": "9762ab67-b7f2-4bdb-85d6-6708c385a79c",
   "metadata": {},
   "outputs": [
    {
     "data": {
      "text/plain": [
       "- : int list * int list = ([1; 2; 3; 4; 5], [-1; -2; -3; -4; -5])\n"
      ]
     },
     "execution_count": 12,
     "metadata": {},
     "output_type": "execute_result"
    }
   ],
   "source": [
    "split_pairs_l l4;;"
   ]
  },
  {
   "cell_type": "code",
   "execution_count": 13,
   "id": "10c2fa7a-a39c-43af-9f4c-46d08c5acecb",
   "metadata": {},
   "outputs": [
    {
     "data": {
      "text/plain": [
       "val l5 : int list list = [[1; 2; 3; 5]; [-1; -2; -3; -4; -5]]\n"
      ]
     },
     "execution_count": 13,
     "metadata": {},
     "output_type": "execute_result"
    }
   ],
   "source": [
    "let l5 = [[1;2;3;5];[-1;-2;-3;-4;-5]];;"
   ]
  },
  {
   "cell_type": "code",
   "execution_count": 14,
   "id": "64a7f581-73da-45d2-abaa-c05e895f40d8",
   "metadata": {},
   "outputs": [
    {
     "data": {
      "text/plain": [
       "- : int list list = [[0; 1; 2; 3; 5]; [0; -1; -2; -3; -4; -5]]\n"
      ]
     },
     "execution_count": 14,
     "metadata": {},
     "output_type": "execute_result"
    }
   ],
   "source": [
    "add_l 0 l5;;"
   ]
  },
  {
   "cell_type": "code",
   "execution_count": 15,
   "id": "284ebc14-888f-4346-a46f-0291362f1116",
   "metadata": {},
   "outputs": [
    {
     "data": {
      "text/plain": [
       "val l6 : int list = [1; 3; 5; -2]\n"
      ]
     },
     "execution_count": 15,
     "metadata": {},
     "output_type": "execute_result"
    }
   ],
   "source": [
    "let l6 = [1;3;5;-2];;"
   ]
  },
  {
   "cell_type": "code",
   "execution_count": 16,
   "id": "bd3a4a51-fd68-4504-b9c3-9b11ebe4d1a2",
   "metadata": {},
   "outputs": [
    {
     "data": {
      "text/plain": [
       "- : int list list =\n",
       "[[]; [-2]; [5]; [5; -2]; [3]; [3; -2]; [3; 5]; [3; 5; -2]; [1]; [1; -2];\n",
       " [1; 5]; [1; 5; -2]; [1; 3]; [1; 3; -2]; [1; 3; 5]; [1; 3; 5; -2]]\n"
      ]
     },
     "execution_count": 16,
     "metadata": {},
     "output_type": "execute_result"
    }
   ],
   "source": [
    "parties_l l6;;"
   ]
  },
  {
   "cell_type": "code",
   "execution_count": 18,
   "id": "a8b83b0a-db92-485d-a65e-766ae938e8cb",
   "metadata": {},
   "outputs": [
    {
     "data": {
      "text/plain": [
       "val l7 : int list = [2; 8; -3; 4; 9; 10; 11; 5; 1]\n"
      ]
     },
     "execution_count": 18,
     "metadata": {},
     "output_type": "execute_result"
    },
    {
     "data": {
      "text/plain": [
       "val t7 : int array = [|2; 8; -3; 4; 9; 10; 11; 5; 1|]\n"
      ]
     },
     "execution_count": 18,
     "metadata": {},
     "output_type": "execute_result"
    }
   ],
   "source": [
    "let l7 =[2;8;-3;4;9;10;11;5;1];;\n",
    "let t7 = [|2;8;-3;4;9;10;11;5;1|];;"
   ]
  },
  {
   "cell_type": "code",
   "execution_count": 19,
   "id": "61078130-e2cc-4352-9da8-b38efceb37ff",
   "metadata": {},
   "outputs": [
    {
     "data": {
      "text/plain": [
       "- : int array = [|2; 8; -3; 4; 9; 10; 11; 5; 1|]\n"
      ]
     },
     "execution_count": 19,
     "metadata": {},
     "output_type": "execute_result"
    }
   ],
   "source": [
    "array_of_list l7;;"
   ]
  },
  {
   "cell_type": "code",
   "execution_count": 20,
   "id": "beb8a00c-6147-4014-8de7-548130a65dae",
   "metadata": {},
   "outputs": [
    {
     "data": {
      "text/plain": [
       "- : int list = [2; 8; -3; 4; 9; 10; 11; 5; 1]\n"
      ]
     },
     "execution_count": 20,
     "metadata": {},
     "output_type": "execute_result"
    }
   ],
   "source": [
    "array_to_list t7;;"
   ]
  }
 ],
 "metadata": {
  "kernelspec": {
   "display_name": "OCaml default",
   "language": "OCaml",
   "name": "ocaml-jupyter"
  },
  "language_info": {
   "codemirror_mode": "text/x-ocaml",
   "file_extension": ".ml",
   "mimetype": "text/x-ocaml",
   "name": "OCaml",
   "nbconverter_exporter": null,
   "pygments_lexer": "OCaml",
   "version": "4.08.1"
  }
 },
 "nbformat": 4,
 "nbformat_minor": 5
}
