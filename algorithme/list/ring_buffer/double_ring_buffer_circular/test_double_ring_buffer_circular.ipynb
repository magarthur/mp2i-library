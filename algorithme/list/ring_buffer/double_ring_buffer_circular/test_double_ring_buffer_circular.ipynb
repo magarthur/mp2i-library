{
 "cells": [
  {
   "cell_type": "code",
   "execution_count": 1,
   "id": "3f6ae54b-acc4-4f6e-a5a9-ac2a4d88a915",
   "metadata": {},
   "outputs": [
    {
     "name": "stdout",
     "output_type": "stream",
     "text": [
      "type 'a l2c = { elem : int; mutable prev : 'a l2c; mutable next : 'a l2c; }\n",
      "val create_l2c : int -> 'a l2c = <fun>\n",
      "val add_l2c : 'a l2c -> int -> unit = <fun>\n",
      "val suppr_l2c : 'a l2c -> unit = <fun>\n",
      "val mem_l2c : int -> 'a l2c -> bool = <fun>\n",
      "val length_l2c : 'a l2c -> int = <fun>\n",
      "val print_l2c : 'a l2c -> unit = <fun>\n",
      "val fusion_l2c : 'a l2c -> 'a l2c -> unit = <fun>\n"
     ]
    }
   ],
   "source": [
    "#use \"double_ring_buffer_circular.ml\";;"
   ]
  },
  {
   "cell_type": "code",
   "execution_count": 2,
   "id": "b69348e6-8a72-40d3-bb4f-75b9dcffd945",
   "metadata": {},
   "outputs": [
    {
     "data": {
      "text/plain": [
       "- : '_weak1 l2c = {elem = 2; prev = <cycle>; next = <cycle>}\n"
      ]
     },
     "execution_count": 2,
     "metadata": {},
     "output_type": "execute_result"
    }
   ],
   "source": [
    "create_l2c 2;;"
   ]
  },
  {
   "cell_type": "code",
   "execution_count": 3,
   "id": "36799a8a-12e1-40da-bb4d-132baad33b62",
   "metadata": {},
   "outputs": [
    {
     "data": {
      "text/plain": [
       "val l1 : '_weak2 l2c = {elem = 2; prev = <cycle>; next = <cycle>}\n"
      ]
     },
     "execution_count": 3,
     "metadata": {},
     "output_type": "execute_result"
    }
   ],
   "source": [
    "let l1 = create_l2c 2;;"
   ]
  },
  {
   "cell_type": "code",
   "execution_count": 4,
   "id": "16c96ae1-b8ec-4452-94fd-92176d95bbf4",
   "metadata": {},
   "outputs": [
    {
     "data": {
      "text/plain": [
       "- : unit = ()\n"
      ]
     },
     "execution_count": 4,
     "metadata": {},
     "output_type": "execute_result"
    }
   ],
   "source": [
    "add_l2c l1 3;;"
   ]
  },
  {
   "cell_type": "code",
   "execution_count": 5,
   "id": "8da0e388-5655-4ddd-b667-65e730a3e3b8",
   "metadata": {},
   "outputs": [
    {
     "data": {
      "text/plain": [
       "- : '_weak3 l2c =\n",
       "{elem = 2; prev = {elem = 3; prev = <cycle>; next = <cycle>};\n",
       " next = {elem = 3; prev = <cycle>; next = <cycle>}}\n"
      ]
     },
     "execution_count": 5,
     "metadata": {},
     "output_type": "execute_result"
    }
   ],
   "source": [
    "l1;;"
   ]
  },
  {
   "cell_type": "code",
   "execution_count": 6,
   "id": "9655e7d0-53e7-4b44-b4a0-c46d03e3eabe",
   "metadata": {},
   "outputs": [
    {
     "data": {
      "text/plain": [
       "- : unit = ()\n"
      ]
     },
     "execution_count": 6,
     "metadata": {},
     "output_type": "execute_result"
    }
   ],
   "source": [
    "suppr_l2c l1;;"
   ]
  },
  {
   "cell_type": "code",
   "execution_count": 7,
   "id": "29a21047-329b-4b1a-a009-cea81f01707a",
   "metadata": {},
   "outputs": [
    {
     "data": {
      "text/plain": [
       "val l2 : '_weak4 l2c = {elem = 0; prev = <cycle>; next = <cycle>}\n"
      ]
     },
     "execution_count": 7,
     "metadata": {},
     "output_type": "execute_result"
    }
   ],
   "source": [
    "let l2 = create_l2c 0;;"
   ]
  },
  {
   "cell_type": "code",
   "execution_count": 9,
   "id": "2c135bca-77cc-4833-9948-456d23da3fb8",
   "metadata": {},
   "outputs": [
    {
     "data": {
      "text/plain": [
       "- : unit = ()\n"
      ]
     },
     "execution_count": 9,
     "metadata": {},
     "output_type": "execute_result"
    }
   ],
   "source": [
    "add_l2c l2 1;\n",
    "add_l2c l2 2;\n",
    "add_l2c l2 3;\n",
    "add_l2c l2 4;\n",
    "add_l2c l2 5;\n",
    "add_l2c l2 6;;"
   ]
  },
  {
   "cell_type": "code",
   "execution_count": 10,
   "id": "7c84d988-0d8b-452b-91cb-b8639083c17e",
   "metadata": {},
   "outputs": [
    {
     "data": {
      "text/plain": [
       "- : '_weak5 l2c =\n",
       "{elem = 0;\n",
       " prev =\n",
       "  {elem = 1;\n",
       "   prev =\n",
       "    {elem = 2;\n",
       "     prev =\n",
       "      {elem = 3;\n",
       "       prev =\n",
       "        {elem = 4;\n",
       "         prev =\n",
       "          {elem = 5; prev = {elem = 6; prev = <cycle>; next = <cycle>};\n",
       "           next = <cycle>};\n",
       "         next = <cycle>};\n",
       "       next = <cycle>};\n",
       "     next = <cycle>};\n",
       "   next = <cycle>};\n",
       " next =\n",
       "  {elem = 6; prev = <cycle>;\n",
       "   next =\n",
       "    {elem = 5; prev = <cycle>;\n",
       "     next =\n",
       "      {elem = 4; prev = <cycle>;\n",
       "       next =\n",
       "        {elem = 3; prev = <cycle>;\n",
       "         next =\n",
       "          {elem = 2; prev = <cycle>;\n",
       "           next = {elem = 1; prev = <cycle>; next = <cycle>}}}}}}}\n"
      ]
     },
     "execution_count": 10,
     "metadata": {},
     "output_type": "execute_result"
    }
   ],
   "source": [
    "l2;;"
   ]
  },
  {
   "cell_type": "code",
   "execution_count": 11,
   "id": "96afbd1c-b9c6-4038-a042-dab2076d8d31",
   "metadata": {},
   "outputs": [
    {
     "data": {
      "text/plain": [
       "- : bool = true\n"
      ]
     },
     "execution_count": 11,
     "metadata": {},
     "output_type": "execute_result"
    }
   ],
   "source": [
    "mem_l2c 3 l2;;"
   ]
  },
  {
   "cell_type": "code",
   "execution_count": 41,
   "id": "38d6131a-0b55-496e-8fb7-3c89e22ecdd1",
   "metadata": {},
   "outputs": [
    {
     "data": {
      "text/plain": [
       "- : bool = false\n"
      ]
     },
     "execution_count": 41,
     "metadata": {},
     "output_type": "execute_result"
    }
   ],
   "source": [
    "mem_l2c 11 l2;;"
   ]
  },
  {
   "cell_type": "code",
   "execution_count": 42,
   "id": "c3322ea8-b2ed-4e39-a48c-b5a2057759e6",
   "metadata": {},
   "outputs": [
    {
     "name": "stdout",
     "output_type": "stream",
     "text": [
      "6\n",
      "5\n",
      "4\n",
      "3\n",
      "2\n",
      "1\n",
      "0\n"
     ]
    },
    {
     "data": {
      "text/plain": [
       "- : unit = ()\n"
      ]
     },
     "execution_count": 42,
     "metadata": {},
     "output_type": "execute_result"
    }
   ],
   "source": [
    "print_l2c l2;;"
   ]
  },
  {
   "cell_type": "code",
   "execution_count": 44,
   "id": "8ac64b65-da0e-4697-af11-3a9ced9fa932",
   "metadata": {},
   "outputs": [
    {
     "data": {
      "text/plain": [
       "val l3 : '_weak19 l2c = {elem = 11; prev = <cycle>; next = <cycle>}\n"
      ]
     },
     "execution_count": 44,
     "metadata": {},
     "output_type": "execute_result"
    }
   ],
   "source": [
    "let l3 = create_l2c 11"
   ]
  },
  {
   "cell_type": "code",
   "execution_count": 51,
   "id": "4182c7c1-98d7-4fa1-8627-5cebf466d25f",
   "metadata": {},
   "outputs": [
    {
     "data": {
      "text/plain": [
       "- : unit = ()\n"
      ]
     },
     "execution_count": 51,
     "metadata": {},
     "output_type": "execute_result"
    },
    {
     "ename": "interrupt",
     "evalue": "intterupt",
     "output_type": "error",
     "traceback": [
      "\u001b[31mException: Sys.Break.\u001b[0m"
     ]
    }
   ],
   "source": [
    "fusion_l2c l2 l3;;"
   ]
  },
  {
   "cell_type": "code",
   "execution_count": 49,
   "id": "3af04f00-21ba-4fb9-9776-55e8aa19329a",
   "metadata": {},
   "outputs": [
    {
     "ename": "error",
     "evalue": "compile_error",
     "output_type": "error",
     "traceback": [
      "File \"[49]\", line 1, characters 10-12:\n1 | print_l2c l4\n              ^^\nError: This expression has type unit but an expression was expected of type\n         'a l2c\n"
     ]
    }
   ],
   "source": []
  }
 ],
 "metadata": {
  "kernelspec": {
   "display_name": "OCaml default",
   "language": "OCaml",
   "name": "ocaml-jupyter"
  },
  "language_info": {
   "codemirror_mode": "text/x-ocaml",
   "file_extension": ".ml",
   "mimetype": "text/x-ocaml",
   "name": "OCaml",
   "nbconverter_exporter": null,
   "pygments_lexer": "OCaml",
   "version": "4.08.1"
  }
 },
 "nbformat": 4,
 "nbformat_minor": 5
}
