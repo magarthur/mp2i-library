{
 "cells": [
  {
   "cell_type": "code",
   "execution_count": 1,
   "id": "4580da80-1c1f-4aee-a0fe-01c6c3603913",
   "metadata": {},
   "outputs": [
    {
     "name": "stdout",
     "output_type": "stream",
     "text": [
      "val split_l : 'a list -> 'a list * 'a list = <fun>\n",
      "val fusion_l : 'a list -> 'a list -> 'a list = <fun>\n",
      "val sort_l : 'a list -> 'a list = <fun>\n",
      "val append_l : 'a list -> 'a list -> 'a list = <fun>\n",
      "val partition_l : 'a list -> 'a -> 'a list * 'a list = <fun>\n",
      "val quicksort_l : 'a list -> 'a list = <fun>\n",
      "val insert : 'a -> 'a list -> 'a list = <fun>\n",
      "val insert_sort : 'a list -> 'a list = <fun>\n"
     ]
    }
   ],
   "source": [
    "#use \"sort_list.ml\";;"
   ]
  },
  {
   "cell_type": "code",
   "execution_count": 2,
   "id": "ba78a915-cfbb-4696-b1d8-3bc315176ea7",
   "metadata": {},
   "outputs": [
    {
     "data": {
      "text/plain": [
       "val l1 : int list = [2; 1; 10; -2; 4; 11; -8; 6]\n"
      ]
     },
     "execution_count": 2,
     "metadata": {},
     "output_type": "execute_result"
    }
   ],
   "source": [
    "let l1 = [2;1;10;-2;4;11;-8;6];;"
   ]
  },
  {
   "cell_type": "code",
   "execution_count": 3,
   "id": "63f828f7-2fe1-4935-9453-4428992d5284",
   "metadata": {},
   "outputs": [
    {
     "data": {
      "text/plain": [
       "- : int list * int list = ([2; 10; 4; -8], [1; -2; 11; 6])\n"
      ]
     },
     "execution_count": 3,
     "metadata": {},
     "output_type": "execute_result"
    }
   ],
   "source": [
    "split_l l1;;"
   ]
  },
  {
   "cell_type": "code",
   "execution_count": 4,
   "id": "aef8fbf1-01a3-4b08-bc54-5ba79fbaef3f",
   "metadata": {},
   "outputs": [
    {
     "data": {
      "text/plain": [
       "val l2 : int list = [2; 5; 7; 9]\n"
      ]
     },
     "execution_count": 4,
     "metadata": {},
     "output_type": "execute_result"
    },
    {
     "data": {
      "text/plain": [
       "val l3 : int list = [1; 3; 6; 8; 10]\n"
      ]
     },
     "execution_count": 4,
     "metadata": {},
     "output_type": "execute_result"
    }
   ],
   "source": [
    "let l2 = [2;5;7;9];;\n",
    "let l3 = [1;3;6;8;10];;"
   ]
  },
  {
   "cell_type": "code",
   "execution_count": 5,
   "id": "9330003a-2fc1-4ac4-ad57-c221e55b4b80",
   "metadata": {},
   "outputs": [
    {
     "data": {
      "text/plain": [
       "- : int list = [1; 2; 3; 5; 6; 7; 8; 9; 10]\n"
      ]
     },
     "execution_count": 5,
     "metadata": {},
     "output_type": "execute_result"
    }
   ],
   "source": [
    "fusion_l l2 l3;;"
   ]
  },
  {
   "cell_type": "code",
   "execution_count": 6,
   "id": "71d632b5-461b-40d8-8b37-a261b12b499c",
   "metadata": {},
   "outputs": [
    {
     "data": {
      "text/plain": [
       "- : int list = [-8; -2; 1; 2; 4; 6; 10; 11]\n"
      ]
     },
     "execution_count": 6,
     "metadata": {},
     "output_type": "execute_result"
    }
   ],
   "source": [
    "sort_l l1;;"
   ]
  },
  {
   "cell_type": "code",
   "execution_count": 7,
   "id": "4e9b3576-e9c6-4bb7-8857-49434bc33c11",
   "metadata": {},
   "outputs": [
    {
     "data": {
      "text/plain": [
       "- : int list = [2; 5; 7; 9; 1; 3; 6; 8; 10]\n"
      ]
     },
     "execution_count": 7,
     "metadata": {},
     "output_type": "execute_result"
    }
   ],
   "source": [
    "append_l l2 l3;;"
   ]
  },
  {
   "cell_type": "code",
   "execution_count": 8,
   "id": "3efec567-4457-4969-81d5-320aa0eb9371",
   "metadata": {},
   "outputs": [
    {
     "data": {
      "text/plain": [
       "- : int list * int list = ([2; 1; -2; 4; -8], [10; 11; 6])\n"
      ]
     },
     "execution_count": 8,
     "metadata": {},
     "output_type": "execute_result"
    }
   ],
   "source": [
    "partition_l l1 5;;"
   ]
  },
  {
   "cell_type": "code",
   "execution_count": 9,
   "id": "c9095dc5-ffc3-4841-8fc9-c367f2c052fe",
   "metadata": {},
   "outputs": [
    {
     "data": {
      "text/plain": [
       "- : int list = [-8; -2; 1; 2; 4; 6; 10; 11]\n"
      ]
     },
     "execution_count": 9,
     "metadata": {},
     "output_type": "execute_result"
    }
   ],
   "source": [
    "quicksort_l l1;;"
   ]
  },
  {
   "cell_type": "code",
   "execution_count": 10,
   "id": "386dabc5-ec92-49ae-8bb1-4720d614cc88",
   "metadata": {},
   "outputs": [
    {
     "data": {
      "text/plain": [
       "- : int list = [1; 3; 4; 6; 8; 10]\n"
      ]
     },
     "execution_count": 10,
     "metadata": {},
     "output_type": "execute_result"
    }
   ],
   "source": [
    "insert 4 l3;;"
   ]
  },
  {
   "cell_type": "code",
   "execution_count": 11,
   "id": "81eb2418-e489-4069-aa4e-b0d61a2aad54",
   "metadata": {},
   "outputs": [
    {
     "data": {
      "text/plain": [
       "- : int list = [-8; -2; 1; 2; 4; 6; 10; 11]\n"
      ]
     },
     "execution_count": 11,
     "metadata": {},
     "output_type": "execute_result"
    }
   ],
   "source": [
    "insert_sort l1;;"
   ]
  },
  {
   "cell_type": "code",
   "execution_count": null,
   "id": "ef11e09f-3cd3-4355-9221-efe66314eb96",
   "metadata": {},
   "outputs": [],
   "source": []
  }
 ],
 "metadata": {
  "kernelspec": {
   "display_name": "OCaml default",
   "language": "OCaml",
   "name": "ocaml-jupyter"
  },
  "language_info": {
   "codemirror_mode": "text/x-ocaml",
   "file_extension": ".ml",
   "mimetype": "text/x-ocaml",
   "name": "OCaml",
   "nbconverter_exporter": null,
   "pygments_lexer": "OCaml",
   "version": "4.08.1"
  }
 },
 "nbformat": 4,
 "nbformat_minor": 5
}
